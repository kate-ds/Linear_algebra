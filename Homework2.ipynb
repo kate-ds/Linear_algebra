{
 "cells": [
  {
   "cell_type": "markdown",
   "id": "530fbb73-eec8-4d20-af76-cfa57a7d89e9",
   "metadata": {},
   "source": [
    "### Часть 1"
   ]
  },
  {
   "cell_type": "code",
   "execution_count": 4,
   "id": "12a47c0a-6471-4dd9-9a72-ccdf06320954",
   "metadata": {},
   "outputs": [],
   "source": [
    "import numpy as np\n",
    "from sympy import *\n",
    "from numpy.linalg import matrix_rank, inv"
   ]
  },
  {
   "cell_type": "markdown",
   "id": "f8169adc-1fb8-4ad9-9b35-3492edaaa3c3",
   "metadata": {},
   "source": [
    "__1.__ Установить, какие произведения матриц $AB$ и $BA$ определены, и найти размерности полученных матриц:\n",
    "\n",
    "   а) $A$ — матрица $4\\times 2$, $B$ — матрица $4\\times 2$;\n",
    "    \n",
    "   б) $A$ — матрица $2\\times 5$, $B$ — матрица $5\\times 3$;\n",
    "    \n",
    "   в) $A$ — матрица $8\\times 3$, $B$ — матрица $3\\times 8$;\n",
    "    \n",
    "   г) $A$ — квадратная матрица $4\\times 4$, $B$ — квадратная матрица $4\\times 4$.\n",
    "    \n"
   ]
  },
  {
   "cell_type": "markdown",
   "id": "b64d312e-ce76-45f4-afbb-431558cb7f29",
   "metadata": {},
   "source": [
    "   а) не определены;\n",
    "    \n",
    "   б) не определены;\n",
    "    \n",
    "   в) определены: $A\\times B$ матрица -  $8\\times 8$, $B\\times A$ матрица -  $3\\times 3$;\n",
    "    \n",
    "   г) определены: $A\\times B = B\\times A$  матрица -  $4\\times 4$.\n",
    "    "
   ]
  },
  {
   "cell_type": "markdown",
   "id": "a598dd34-54f7-45b4-9e7e-7b071e875807",
   "metadata": {},
   "source": [
    "__2.__ Найти сумму и произведение матриц $A=\\begin{pmatrix}\n",
    "1 & -2\\\\ \n",
    "3 & 0\n",
    "\\end{pmatrix}$ и $B=\\begin{pmatrix}\n",
    "4 & -1\\\\ \n",
    "0 & 5\n",
    "\\end{pmatrix}.$"
   ]
  },
  {
   "cell_type": "code",
   "execution_count": 50,
   "id": "7cab34d7-bb87-4436-9cac-21e7f3bf8e46",
   "metadata": {},
   "outputs": [],
   "source": [
    "a = np.array([[1, -2], [3, 0]])\n",
    "b = np.array([[4, -1], [0, 5]])"
   ]
  },
  {
   "cell_type": "markdown",
   "id": "fdd06582-e984-4a60-b550-cf5da0d4b057",
   "metadata": {},
   "source": [
    "$A + B = \\begin{pmatrix}\n",
    "1 & -2\\\\ \n",
    "3 & 0\n",
    "\\end{pmatrix} + \\begin{pmatrix}\n",
    "4 & -1\\\\ \n",
    "0 & 5\n",
    "\\end{pmatrix} = \\begin{pmatrix}\n",
    "1+4 & -2-1\\\\ \n",
    "3+0 & 0+5\n",
    "\\end{pmatrix} = \\begin{pmatrix}\n",
    "5 & -3\\\\ \n",
    "3 & 5\n",
    "\\end{pmatrix}$"
   ]
  },
  {
   "cell_type": "code",
   "execution_count": 53,
   "id": "320925b3-4bd6-41c9-b55a-172586c4dca4",
   "metadata": {},
   "outputs": [
    {
     "name": "stdout",
     "output_type": "stream",
     "text": [
      "sum: \n",
      " [[ 5 -3]\n",
      " [ 3  5]]\n"
     ]
    }
   ],
   "source": [
    "print('sum: \\n', a+b)"
   ]
  },
  {
   "cell_type": "markdown",
   "id": "363965fe-d0b7-4f3f-8b24-b7f1aa9e2259",
   "metadata": {},
   "source": [
    "$A \\times B = \\begin{pmatrix}\n",
    "1 & -2\\\\ \n",
    "3 & 0\n",
    "\\end{pmatrix} \\times \\begin{pmatrix}\n",
    "4 & -1\\\\ \n",
    "0 & 5\n",
    "\\end{pmatrix} = \\begin{pmatrix}\n",
    "1\\cdot 4 + 0 & -1 - 2 \\cdot 5 \\\\ \n",
    "3\\cdot 4 + 0 & -3+0\n",
    "\\end{pmatrix} = \\begin{pmatrix}\n",
    "4 & -11\\\\ \n",
    "12 & -3\n",
    "\\end{pmatrix}$  \n",
    "\n",
    "$B \\times A = \\begin{pmatrix}\n",
    "4 & -1\\\\ \n",
    "0 & 5\n",
    "\\end{pmatrix} \\times \n",
    "\\begin{pmatrix}\n",
    "1 & -2\\\\ \n",
    "3 & 0\n",
    "\\end{pmatrix}  = \\begin{pmatrix}\n",
    "4\\cdot 1 - 1 \\cdot 3 & -2 \\cdot 4 - 0 \\\\ \n",
    "0\\cdot 1 + 5 \\cdot 3 &  -2 \\cdot 0 + 5 \\cdot 0\n",
    "\\end{pmatrix} = \\begin{pmatrix}\n",
    "1 & -8\\\\ \n",
    "15 & 0\n",
    "\\end{pmatrix}$"
   ]
  },
  {
   "cell_type": "code",
   "execution_count": 8,
   "id": "ff689b3a-67a3-450d-9489-a0305693143f",
   "metadata": {},
   "outputs": [
    {
     "data": {
      "text/plain": [
       "(array([[  4, -11],\n",
       "        [ 12,  -3]]),\n",
       " array([[ 1, -8],\n",
       "        [15,  0]]))"
      ]
     },
     "execution_count": 8,
     "metadata": {},
     "output_type": "execute_result"
    }
   ],
   "source": [
    "a = np.array([[1, -2], [3, 0]])\n",
    "b = np.array([[4, -1], [0, 5]])\n",
    "a@b, b@a"
   ]
  },
  {
   "cell_type": "markdown",
   "id": "e94da714-70d3-4678-8b0e-ad7bcbdba72a",
   "metadata": {},
   "source": [
    "__3.__ Из закономерностей сложения и умножения матриц на число можно сделать вывод, что матрицы одного размера образуют линейное пространство. Вычислить линейную комбинацию $3A-2B+4C$ для матриц $A=\\begin{pmatrix}\n",
    "1 & 7\\\\ \n",
    "3 & -6\n",
    "\\end{pmatrix}$, $B=\\begin{pmatrix}\n",
    "0 & 5\\\\ \n",
    "2 & -1\n",
    "\\end{pmatrix}$, $C=\\begin{pmatrix}\n",
    "2 & -4\\\\ \n",
    "1 & 1\n",
    "\\end{pmatrix}.$"
   ]
  },
  {
   "cell_type": "markdown",
   "id": "b3daecee-9619-4ac7-b32a-db19ea198725",
   "metadata": {},
   "source": [
    "$3 \\times \\begin{pmatrix}\n",
    "1 & 7\\\\ \n",
    "3 & -6\n",
    "\\end{pmatrix} -2 \\times \\begin{pmatrix}\n",
    "0 & 5\\\\ \n",
    "2 & -1\n",
    "\\end{pmatrix} +4\\times \\begin{pmatrix}\n",
    "2 & -4\\\\ \n",
    "1 & 1\n",
    "\\end{pmatrix} = \\begin{pmatrix}\n",
    "3 & 21\\\\ \n",
    "9 & -18\n",
    "\\end{pmatrix} -\\begin{pmatrix}\n",
    "0 & 10\\\\ \n",
    "4 & -2\n",
    "\\end{pmatrix} + \\begin{pmatrix}\n",
    "8 & -16\\\\ \n",
    "4 & 4\n",
    "\\end{pmatrix} = \\begin{pmatrix}\n",
    "11 & -5\\\\ \n",
    "9 & -12\n",
    "\\end{pmatrix}$"
   ]
  },
  {
   "cell_type": "code",
   "execution_count": 54,
   "id": "96bbeca7-eacc-4f87-8c53-e7535f40cbbf",
   "metadata": {},
   "outputs": [
    {
     "data": {
      "text/plain": [
       "array([[ 11,  -5],\n",
       "       [  9, -12]])"
      ]
     },
     "execution_count": 54,
     "metadata": {},
     "output_type": "execute_result"
    }
   ],
   "source": [
    "A = np.array([[1, 7], [3, -6]])\n",
    "B = np.array([[0, 5], [2, -1]])\n",
    "C = np.array([[2, -4], [1, 1]])\n",
    "\n",
    "3*A - 2*B + 4*C"
   ]
  },
  {
   "cell_type": "markdown",
   "id": "5c3feb92-47f6-4e6e-be54-c246eff9cc06",
   "metadata": {},
   "source": [
    "__4.__ Дана матрица $A=\\begin{pmatrix}\n",
    "4 & 1\\\\ \n",
    "5 & -2\\\\ \n",
    "2 & 3\n",
    "\\end{pmatrix}$.\n",
    "Вычислить $AA^{T}$ и $A^{T}A$."
   ]
  },
  {
   "cell_type": "markdown",
   "id": "528a33bf-c5e4-4b2a-915e-4e1cf4c6760c",
   "metadata": {},
   "source": [
    "$A^T=\\begin{pmatrix}\n",
    "4 & 5 & 2\\\\ \n",
    "1 & -2 & 3\\\\ \n",
    "\\end{pmatrix}$.\n",
    "\n",
    "$AA^{T} = \\begin{pmatrix}\n",
    "4 & 1\\\\ \n",
    "5 & -2\\\\ \n",
    "2 & 3\n",
    "\\end{pmatrix} \\times \\begin{pmatrix}\n",
    "4 & 5 & 2\\\\ \n",
    "1 & -2 & 3\\\\ \n",
    "\\end{pmatrix} = \\begin{pmatrix}\n",
    "(4\\cdot 4 + 1 \\cdot 1) & (4\\cdot 5 - 2) & (4\\cdot 2 + 3 \\cdot 1) \\\\ \n",
    "(5\\cdot 4 - 2 \\cdot 1) & (5\\cdot 5 + 2 \\cdot 2) & (5\\cdot 2 - 3 \\cdot 2) \\\\ \n",
    "(2\\cdot 4 + 3) & (2\\cdot 5 - 2 \\cdot 3) & (2\\cdot 2 + 3 \\cdot 3)\n",
    "\\end{pmatrix} = \\begin{pmatrix}\n",
    "17 & 18 & 11 \\\\ \n",
    "18 & 29 & 4 \\\\ \n",
    "11 & 4 & 13\n",
    "\\end{pmatrix}$   \n",
    "\n",
    "$A^{T}A = \\begin{pmatrix}\n",
    "4 & 5 & 2\\\\ \n",
    "1 & -2 & 3\\\\ \n",
    "\\end{pmatrix} \\times \\begin{pmatrix}\n",
    "4 & 1\\\\ \n",
    "5 & -2\\\\ \n",
    "2 & 3\n",
    "\\end{pmatrix} = \\begin{pmatrix}\n",
    "(4\\cdot 4 + 5 \\cdot 5 + 2 \\cdot 2) & (4\\cdot 1 - 2\\cdot 5 + 3 \\cdot 2) \\\\ \n",
    "(4\\cdot 1 - 5 \\cdot 2 + 2 \\cdot 3) & (1\\cdot 1 + 2\\cdot 2 + 3 \\cdot 3)\n",
    "\\end{pmatrix} = \\begin{pmatrix}\n",
    "45 & 0 \\\\ \n",
    "0 & 14 \n",
    "\\end{pmatrix}$."
   ]
  },
  {
   "cell_type": "code",
   "execution_count": 56,
   "id": "7c037269-e632-4194-a3fe-141c0bc8eee9",
   "metadata": {},
   "outputs": [
    {
     "name": "stdout",
     "output_type": "stream",
     "text": [
      "Matrix: \n",
      "[[ 4  1]\n",
      " [ 5 -2]\n",
      " [ 2  3]]\n",
      " AAt: \n",
      "[[17 18 11]\n",
      " [18 29  4]\n",
      " [11  4 13]] \n",
      " AtA: \n",
      "[[45  0]\n",
      " [ 0 14]]\n"
     ]
    }
   ],
   "source": [
    "a = np.array([[4, 1], [5, -2], [2, 3]])\n",
    "aat = a@a.T\n",
    "ata =a.T@a\n",
    "print(f'Matrix: \\n{a}\\n AAt: \\n{aat} \\n AtA: \\n{ata}')"
   ]
  },
  {
   "cell_type": "markdown",
   "id": "229fdcf8-bdaf-43b1-98a4-d8e63ff8f4fe",
   "metadata": {},
   "source": [
    "__5*.__ Написать на Python функцию для перемножения двух произвольных матриц, не используя NumPy."
   ]
  },
  {
   "cell_type": "code",
   "execution_count": 114,
   "id": "b102b190-80e6-4d62-89a3-253403dc1237",
   "metadata": {},
   "outputs": [
    {
     "name": "stdout",
     "output_type": "stream",
     "text": [
      "Test1 -  OK\n",
      "Test2 -  OK\n"
     ]
    }
   ],
   "source": [
    "def matrix_multiply(matrix1, matrix2):\n",
    "    n = len(matrix1)\n",
    "    m = len(matrix2[0])\n",
    "    mult = [[0 for i in range(n)] for i in range(m)]\n",
    "    for i in range(n):\n",
    "      for j in range(m):\n",
    "        for k in range(len(matrix2)):\n",
    "           mult[i][j] += matrix1[i][k] * matrix2[k][j]\n",
    "    return mult\n",
    "\n",
    "def matrix_multiply_test():\n",
    "    a = [[1, -2], [3, 0]]\n",
    "    b = [[4, -1], [0, 5]]\n",
    "    c = [[1, 2, 3], [4, 5, 6]]\n",
    "    d = [[1, 2], [3, 4], [5, 6]]\n",
    "    print(\"Test1 - \", \"OK\" if matrix_multiply(a, b) == [[ 4, -11], [ 12,  -3]] else \"False\")\n",
    "    print(\"Test2 - \", \"OK\" if matrix_multiply(c, d) == [[22, 28], [49, 64]] else \"False\")\n",
    "\n",
    "matrix_multiply_test()"
   ]
  },
  {
   "cell_type": "markdown",
   "id": "baeae6d2-f0b9-45e4-a77a-092a649ac013",
   "metadata": {},
   "source": [
    "### Часть 2"
   ]
  },
  {
   "cell_type": "markdown",
   "id": "9f437c0f-c9ad-46af-b58f-74b3f20fd9d1",
   "metadata": {},
   "source": [
    "__1.__ Вычислить определитель:\n",
    "\n",
    "   a)\n",
    "\n",
    "$$\\begin{vmatrix}\n",
    "sinx & -cosx\\\\ \n",
    "cosx & sinx\n",
    "\\end{vmatrix} = sin^2x + cos^2x = 1$$\n",
    "\n",
    "   б)\n",
    "    \n",
    "$$\\begin{vmatrix}\n",
    "4 & 2 & 3\\\\ \n",
    "0 & 5 & 1\\\\ \n",
    "0 & 0 & 9\n",
    "\\end{vmatrix} = 4 \\cdot 5 \\cdot 9 = 180$$\n",
    "\n",
    "   в)\n",
    "\n",
    "$$\\begin{vmatrix}\n",
    "1 & 2 & 3\\\\ \n",
    "4 & 5 & 6\\\\ \n",
    "7 & 8 & 9\n",
    "\\end{vmatrix} = 1(45 - 48) -2 (36 - 42) +3 (32 - 35) = -3 + 12 - 9 = 0$$"
   ]
  },
  {
   "cell_type": "code",
   "execution_count": 82,
   "id": "056bac51-9b97-4eb8-8d70-4503f87929d5",
   "metadata": {},
   "outputs": [
    {
     "data": {
      "text/latex": [
       "$\\displaystyle \\sin^{2}{\\left(x \\right)} + \\cos^{2}{\\left(x \\right)}$"
      ],
      "text/plain": [
       "sin(x)**2 + cos(x)**2"
      ]
     },
     "execution_count": 82,
     "metadata": {},
     "output_type": "execute_result"
    }
   ],
   "source": [
    "x = Symbol('x')\n",
    "A = Matrix([[sin(x), -cos(x)], [cos(x), sin(x)]])\n",
    "A.det()"
   ]
  },
  {
   "cell_type": "code",
   "execution_count": 111,
   "id": "87076c9d-f385-46b6-a2e2-ad1320d601d2",
   "metadata": {},
   "outputs": [
    {
     "data": {
      "text/plain": [
       "180.0"
      ]
     },
     "execution_count": 111,
     "metadata": {},
     "output_type": "execute_result"
    }
   ],
   "source": [
    "# B = Matrix([[4, 2, 3], [0, 5, 1], [0, 0, 9]])\n",
    "# B.det()\n",
    "b = np.array([[4, 2, 3], [0, 5, 1], [0, 0, 9]])\n",
    "det(b)"
   ]
  },
  {
   "cell_type": "code",
   "execution_count": 9,
   "id": "c93f8a98-d308-4ca8-aae7-f6d40a413cb9",
   "metadata": {},
   "outputs": [
    {
     "name": "stdout",
     "output_type": "stream",
     "text": [
      "-0\n"
     ]
    }
   ],
   "source": [
    "from numpy.linalg import det\n",
    "C = np.array([[1, 2, 3], [4, 5, 6], [7, 8, 9]])\n",
    "print(f'{det(C):.0f}')"
   ]
  },
  {
   "cell_type": "markdown",
   "id": "3f35cb1d-f629-40bd-9930-a6316c9095aa",
   "metadata": {},
   "source": [
    "__2.__ Определитель матрицы $A$ равен $4$. Найти:\n",
    "\n",
    "   а) $det(A^{2}) = det(A) \\times det(A) = 4 \\cdot 4 = 16$;\n",
    "    \n",
    "   б) $det(A^{T}) = det(A) = 4$;\n",
    "    \n",
    "   в) $det(2A) = 2^n \\cdot det(a) = 2^n \\cdot 4$.\n"
   ]
  },
  {
   "cell_type": "markdown",
   "id": "924e08c3-bbad-47a1-af4b-85b8d3659b5d",
   "metadata": {},
   "source": [
    "__3.__  Доказать, что матрица\n",
    "\n",
    "$$\\begin{pmatrix}\n",
    "-2 & 7 & -3\\\\ \n",
    "4 & -14 & 6\\\\ \n",
    "-3 & 7 & 13\n",
    "\\end{pmatrix}$$\n",
    "   \n",
    "вырожденная."
   ]
  },
  {
   "cell_type": "markdown",
   "id": "56d4a1e6-29f5-4c8c-808c-928c6fdbce5f",
   "metadata": {},
   "source": [
    "Матрица является вырожденной, если ее определитель равен 0.\n",
    "$$\\begin{vmatrix}\n",
    "-2 & 7 & -3\\\\ \n",
    "4 & -14 & 6\\\\ \n",
    "-3 & 7 & 13\n",
    "\\end{vmatrix} = -2(-14 \\cdot(13) -6 \\cdot 7) -7(4 \\cdot 13+ 6 \\cdot 3) -3(4 \\cdot 7 -3 \\cdot 14) = 448 -490 + 42 = 0 \\\\ \\Rightarrow ~вырожденная$$ "
   ]
  },
  {
   "cell_type": "markdown",
   "id": "c563e730-ddc8-4823-bc54-d38b2359c450",
   "metadata": {},
   "source": [
    "__4.__ Найти ранг матрицы:\n",
    "\n",
    "   а) $\\begin{pmatrix}\n",
    "1 & 2 & 3\\\\ \n",
    "1 & 1 & 1\\\\ \n",
    "2 & 3 & 4\n",
    "\\end{pmatrix};$\n",
    "\n",
    "   б) $\\begin{pmatrix}\n",
    "0 & 0 & 2 & 1\\\\ \n",
    "0 & 0 & 2 & 2\\\\ \n",
    "0 & 0 & 4 & 3\\\\ \n",
    "2 & 3 & 5 & 6\n",
    "\\end{pmatrix}.$"
   ]
  },
  {
   "cell_type": "markdown",
   "id": "8127d2b7-4984-4142-adac-ae3d79c97634",
   "metadata": {},
   "source": [
    "   а) $\\begin{pmatrix}\n",
    "1 & 2 & 3\\\\ \n",
    "1 & 1 & 1\\\\ \n",
    "2 & 3 & 4\n",
    "\\end{pmatrix} = \\begin{pmatrix}\n",
    "1 & 2 & 3\\\\ \n",
    "1 & 1 & 1\\\\ \n",
    "1 & 1 & 1\n",
    "\\end{pmatrix} = \\begin{pmatrix}\n",
    "0 & 1 & 2\\\\ \n",
    "1 & 1 & 1\\\\ \n",
    "\\end{pmatrix} \\Rightarrow rankA = 2$  \n",
    "\n",
    "1. Из третьей строки вычитаем первую\n",
    "2. Третью строку сокращаем, из первой вычитаем вторую"
   ]
  },
  {
   "cell_type": "code",
   "execution_count": 106,
   "id": "43245f75-553d-4394-8ab3-88331905902a",
   "metadata": {},
   "outputs": [
    {
     "name": "stdout",
     "output_type": "stream",
     "text": [
      "Матрица:\n",
      " [[1 2 3]\n",
      " [1 1 1]\n",
      " [2 3 4]] \n",
      "ранг: 2\n"
     ]
    }
   ],
   "source": [
    "a = np.array([[1, 2, 3], [1, 1, 1], [2, 3, 4]])\n",
    "print(f'Матрица:\\n {a} \\nранг: {matrix_rank(a)}')"
   ]
  },
  {
   "cell_type": "markdown",
   "id": "23859535-fcb7-48d9-9fb5-23880cc5ef25",
   "metadata": {},
   "source": [
    "   б) $\\begin{pmatrix}\n",
    "0 & 0 & 2 & 1\\\\ \n",
    "0 & 0 & 2 & 2\\\\ \n",
    "0 & 0 & 4 & 3\\\\ \n",
    "2 & 3 & 5 & 6\n",
    "\\end{pmatrix} = \\begin{pmatrix}\n",
    "0 & 0 & 2 & 1\\\\ \n",
    "0 & 0 & 2 & 2\\\\ \n",
    "0 & 0 & 2 & 2\\\\ \n",
    "2 & 3 & 5 & 6\n",
    "\\end{pmatrix} = \\begin{pmatrix}\n",
    "0 & 0 & 0 & -1\\\\ \n",
    "0 & 0 & 2 & 2\\\\ \n",
    "2 & 3 & 5 & 6\n",
    "\\end{pmatrix} \\Rightarrow rankA = 2$  \n",
    "\n",
    "1. Из третьей строки вычитаем первую\n",
    "2. Третью строку сокращаем, из первой вычитаем третью"
   ]
  },
  {
   "cell_type": "code",
   "execution_count": 107,
   "id": "1cef24d5-fd80-4aa2-af72-8b2e477da964",
   "metadata": {},
   "outputs": [
    {
     "name": "stdout",
     "output_type": "stream",
     "text": [
      "Матрица:\n",
      " [[0 0 2 1]\n",
      " [0 0 2 2]\n",
      " [0 0 4 3]\n",
      " [2 3 5 6]] \n",
      "ранг: 3\n"
     ]
    }
   ],
   "source": [
    "b = np.array([[0, 0, 2, 1], [0, 0, 2, 2], [0, 0, 4, 3], [2, 3, 5, 6]])\n",
    "print(f'Матрица:\\n {b} \\nранг: {matrix_rank(b)}')"
   ]
  },
  {
   "cell_type": "markdown",
   "id": "06053265-c378-4eb2-a4fa-0bdc4932d110",
   "metadata": {},
   "source": [
    "__5*.__ Алгоритм для вычисления определителя"
   ]
  },
  {
   "cell_type": "code",
   "execution_count": 13,
   "id": "4f7daf5c-4da0-445c-abbf-d5741bbd6b88",
   "metadata": {},
   "outputs": [
    {
     "name": "stdout",
     "output_type": "stream",
     "text": [
      "det a = 6,\n",
      "det c = -70,\n",
      "det d = -0\n"
     ]
    }
   ],
   "source": [
    "# для теста высчитаем определители разных матриц\n",
    "a = np.array([[1, -2], [3, 0]])\n",
    "b = np.array([[4, -1, 0], [0, 5, 1]])\n",
    "c = np.array([[1, 2, 3, 4], [1, 4, 5, 6], [2, 7, 8, 0], [1, 4, 2, 8]])\n",
    "d = np.array([[1, 2, 3], [4, 5, 6], [7, 8, 9]])\n",
    "\n",
    "print(f'det a = {det(a):.0f},\\ndet c = {det(c):.0f},\\ndet d = {det(d):.0f}')"
   ]
  },
  {
   "cell_type": "code",
   "execution_count": 2,
   "id": "9c1da314-58a2-4ffa-8098-a447d20d9b30",
   "metadata": {},
   "outputs": [
    {
     "name": "stdout",
     "output_type": "stream",
     "text": [
      "Test1 - OK\n",
      "Test2 - OK\n",
      "Test3 - OK\n",
      "Test4 - OK\n",
      "Test5 - OK\n"
     ]
    }
   ],
   "source": [
    "def my_det(matrix):\n",
    "    n = len(matrix)\n",
    "    assert n == len(matrix[0]), 'Matrix dimention error'\n",
    "    if n == 1:\n",
    "        return matrix[0][0]\n",
    "    elif n == 2:\n",
    "        return matrix[0][0] * matrix[1][1] - matrix[0][1] * matrix[1][0]\n",
    "    else:\n",
    "        det = 0\n",
    "        for j in range(n):\n",
    "            minor = [string[:j] + string[j+1:] for string in (matrix[:0]+matrix[1:])]\n",
    "            det += matrix[0][j]* (-1)**(j)*my_det(minor)\n",
    "    return det\n",
    "\n",
    "def my_det_test():\n",
    "    a = [[1, -2], [3, 0]]\n",
    "    b = [[4, -1, 0], [0, 5, 1]]\n",
    "    c = [[1, 2, 3, 4], [1, 4, 5, 6], [2, 7, 8, 0], [1, 4, 2, 8]]\n",
    "    d = [[1, 2, 3], [4, 5, 6], [7, 8, 9]]\n",
    "    e = [[1]]\n",
    "    print(\"Test1 -\", \"OK\" if my_det(a) == 6 else \"False\")\n",
    "    print(\"Test2 -\", \"OK\" if my_det(c) == -70 else f\"{print(my_det(c))} - False\")\n",
    "    print(\"Test3 -\", \"OK\" if my_det(d) == 0 else f\"{print(my_det(d))} - False\")\n",
    "    try:\n",
    "        my_det(b)\n",
    "    except AssertionError:\n",
    "        print(\"Test4 - OK\")\n",
    "    print(\"Test5 -\", \"OK\" if my_det(e) == 1 else \"False\")\n",
    "\n",
    "my_det_test()"
   ]
  }
 ],
 "metadata": {
  "kernelspec": {
   "display_name": "Python 3",
   "language": "python",
   "name": "python3"
  },
  "language_info": {
   "codemirror_mode": {
    "name": "ipython",
    "version": 3
   },
   "file_extension": ".py",
   "mimetype": "text/x-python",
   "name": "python",
   "nbconvert_exporter": "python",
   "pygments_lexer": "ipython3",
   "version": "3.9.5"
  },
  "toc-autonumbering": true,
  "toc-showcode": true
 },
 "nbformat": 4,
 "nbformat_minor": 5
}
