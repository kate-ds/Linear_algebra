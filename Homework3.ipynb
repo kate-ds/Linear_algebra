{
 "cells": [
  {
   "cell_type": "code",
   "execution_count": 14,
   "id": "12a47c0a-6471-4dd9-9a72-ccdf06320954",
   "metadata": {},
   "outputs": [],
   "source": [
    "import numpy as np\n",
    "from numpy.linalg import eig"
   ]
  },
  {
   "cell_type": "markdown",
   "id": "f8169adc-1fb8-4ad9-9b35-3492edaaa3c3",
   "metadata": {},
   "source": [
    "__1.__ Найти собственные векторы и собственные значения для линейного оператора, заданного матрицей\n",
    "\n",
    "$$A=\\begin{pmatrix}\n",
    "-1 & -6\\\\ \n",
    "2 & 6\n",
    "\\end{pmatrix}.$$\n",
    "    \n"
   ]
  },
  {
   "cell_type": "markdown",
   "id": "efe565b6-80d4-4f1f-b098-773da280f511",
   "metadata": {},
   "source": [
    "1. Найдем собственные значения \n",
    "\n",
    "$$\\begin{vmatrix}\n",
    "-1-\\lambda & -6\\\\ \n",
    "2 & 6-\\lambda\n",
    "\\end{vmatrix} = 0,$$\n",
    "\n",
    "$$(-1-\\lambda)(6-\\lambda)+2\\cdot 6=0,$$\n",
    "\n",
    "$$-6 -6 \\lambda + \\lambda + \\lambda^2 + 12=0,$$  \n",
    "\n",
    "$$\\lambda^2 + 5 \\lambda + 6=0, \\Rightarrow ~\\lambda_1 = \\frac{5 + 1}{2} =3, ~\\lambda_2 = \\frac{5 - 1}{2}= 2$$\n",
    "\n",
    "2. Теперь найдем собственные векторы, подставив полученные собственные значения в выражение $\\textbf{A}x=\\lambda x$:\n",
    "\n",
    "* Для $\\lambda = 3$:\n",
    "\n",
    "$$\\begin{pmatrix}\n",
    "-1 & -6\\\\ \n",
    "2 & 6\n",
    "\\end{pmatrix}\n",
    "\\begin{pmatrix}\n",
    "x_{1}\\\\ \n",
    "x_{2}\n",
    "\\end{pmatrix}=\n",
    "3\n",
    "\\begin{pmatrix}\n",
    "x_{1}\\\\ \n",
    "x_{2}\n",
    "\\end{pmatrix}.\n",
    "$$\n",
    "\n",
    "$$\\begin{cases}\n",
    "-x_{1}-6x_{2}= 3x_{1}, \\\\\n",
    "2x_{1}+6x_{2}= 3x_{2}\n",
    "\\end{cases} $$ \n",
    "\n",
    "$$\\begin{cases}\n",
    "-x_{1}-6x_{2} - 3x_{1} =0, \\\\\n",
    "2x_{1}+6x_{2} - 3x_{2} =0\n",
    "\\end{cases} $$ \n",
    "\n",
    "$$\\begin{cases}\n",
    "-4x_{1} = 6x_{2}, \\\\\n",
    "2x_{1} = - 3x_{2}\n",
    "\\end{cases} $$ \n",
    "\n",
    "$$\\begin{cases}\n",
    "6x_{2} - 6x_{2} = 0, \\\\\n",
    "x_{1} = - \\frac{3}{2}x_{2}\n",
    "\\end{cases}$$ \n",
    "\n",
    "$$\\begin{cases}\n",
    "x_{2} \\forall, \\\\\n",
    "x_{1} = - \\frac{3}{2}x_{2}\n",
    "\\end{cases}$$  \n",
    "\n",
    "Если $x_{2} = 1, ~то~ x_{1} = -\\frac{3}{2}$\n",
    "\n",
    "Собственный вектор $x = (-\\frac{3}{2}, 1)$\n",
    "\n",
    "* Для $\\lambda = 2$:\n",
    "\n",
    "$$\\begin{pmatrix}\n",
    "-1 & -6\\\\ \n",
    "2 & 6\n",
    "\\end{pmatrix}\n",
    "\\begin{pmatrix}\n",
    "x_{1}\\\\ \n",
    "x_{2}\n",
    "\\end{pmatrix}=\n",
    "2\n",
    "\\begin{pmatrix}\n",
    "x_{1}\\\\ \n",
    "x_{2}\n",
    "\\end{pmatrix}.\n",
    "$$\n",
    "\n",
    "$$\\begin{cases}\n",
    "-x_{1}-6x_{2}= 2x_{1}, \\\\\n",
    "2x_{1}+6x_{2}= 2x_{2}\n",
    "\\end{cases} $$ \n",
    "\n",
    "$$\\begin{cases}\n",
    "-3x_{1}= 6x_{2}, \\\\\n",
    "2x_{1}= -4x_{2}\n",
    "\\end{cases} $$\n",
    "\n",
    "$$\\begin{cases}\n",
    "-2x_{2}= -2x_{2}, \\\\\n",
    "x_{1}= -2x_{2}\n",
    "\\end{cases} $$\n",
    "\n",
    "$$\\begin{cases}\n",
    "x_{2} \\forall, \\\\\n",
    "x_{1}= -2x_{2}\n",
    "\\end{cases} $$  \n",
    "\n",
    "Если $x_{2} = 1, ~то~ x_{1} = -2$\n",
    "\n",
    "Собственный вектор $x = (-2, 1)$"
   ]
  },
  {
   "cell_type": "code",
   "execution_count": 22,
   "id": "1c1aa03c-091e-4579-841f-7dca9715569f",
   "metadata": {},
   "outputs": [
    {
     "name": "stdout",
     "output_type": "stream",
     "text": [
      "Собственные значения: [2. 3.]\n",
      "Собственные векторы: \n",
      "[[-0.89442719  0.83205029]\n",
      " [ 0.4472136  -0.5547002 ]]\n"
     ]
    }
   ],
   "source": [
    "a = np.array([[-1, -6], [2, 6]])\n",
    "w, v = eig(a)\n",
    "print(f'Собственные значения: {w}\\nСобственные векторы: \\n{v}')"
   ]
  },
  {
   "cell_type": "markdown",
   "id": "a598dd34-54f7-45b4-9e7e-7b071e875807",
   "metadata": {},
   "source": [
    "__2.__ Дан оператор поворота на 180 градусов, задаваемый матрицей \n",
    "\n",
    "$$A=\\begin{pmatrix}\n",
    "-1 & 0\\\\ \n",
    "0 & -1\n",
    "\\end{pmatrix}.$$\n",
    "\n",
    "\n",
    "Показать, что __любой__ вектор является для него собственным."
   ]
  },
  {
   "cell_type": "markdown",
   "id": "41e57978-8123-4333-995f-e2f7fcd230b7",
   "metadata": {},
   "source": [
    "1. Найдем собственные значения \n",
    "\n",
    "$$\\begin{vmatrix}\n",
    "-1-\\lambda & 0\\\\ \n",
    "0 & -1-\\lambda\n",
    "\\end{vmatrix} = 0,$$\n",
    "\n",
    "$$(-1-\\lambda)^2=0,$$\n",
    "\n",
    "$$ \\lambda_1 = \\lambda_2 = -1$$\n",
    "\n",
    "2. Теперь найдем собственные векторы, подставив собственное значение в выражение $\\textbf{A}x=\\lambda x$:\n",
    "\n",
    "$$\\begin{pmatrix}\n",
    "-1 & 0\\\\ \n",
    "0 & -1\n",
    "\\end{pmatrix}\n",
    "\\begin{pmatrix}\n",
    "x_{1}\\\\ \n",
    "x_{2}\n",
    "\\end{pmatrix}=\n",
    "-1\n",
    "\\begin{pmatrix}\n",
    "x_{1}\\\\ \n",
    "x_{2}\n",
    "\\end{pmatrix}.\n",
    "$$\n",
    "\n",
    "$$\\begin{cases}\n",
    "-x_{1}-0 \\cdot x_{2}= -x_{1}, \\\\\n",
    "0 \\cdot x_{1}- 1x_{2}= -x_{2}\n",
    "\\end{cases} $$ \n",
    "\n",
    "$$\\begin{cases}\n",
    "0 =0, \\\\\n",
    "0 =0\n",
    "\\end{cases} \\Rightarrow \n",
    "\\begin{cases}\n",
    "x_1 \\forall, \\\\\n",
    "x_2 \\forall\n",
    "\\end{cases}$$   \n",
    "\n",
    "Следовательно, любой вектор линейного оператора А является собственным"
   ]
  },
  {
   "cell_type": "code",
   "execution_count": 23,
   "id": "320925b3-4bd6-41c9-b55a-172586c4dca4",
   "metadata": {},
   "outputs": [
    {
     "name": "stdout",
     "output_type": "stream",
     "text": [
      "Собственные значения: [-1. -1.]\n",
      "Собственные векторы: \n",
      "[[1. 0.]\n",
      " [0. 1.]]\n"
     ]
    }
   ],
   "source": [
    "a = np.array([[-1, 0], [0, -1]])\n",
    "w, v = eig(a)\n",
    "print(f'Собственные значения: {w}\\nСобственные векторы: \\n{v}')"
   ]
  },
  {
   "cell_type": "markdown",
   "id": "e94da714-70d3-4678-8b0e-ad7bcbdba72a",
   "metadata": {},
   "source": [
    "__3.__ Пусть линейный оператор задан матрицей\n",
    "\n",
    "$$A=\\begin{pmatrix}\n",
    "1 & 1\\\\ \n",
    "-1 & 3\n",
    "\\end{pmatrix}.$$\n",
    "\n",
    "Установить, является ли вектор $x=(1,1)$ собственным вектором этого линейного оператора."
   ]
  },
  {
   "cell_type": "markdown",
   "id": "7103fd22-37ea-41b2-94e7-22fd36842ad7",
   "metadata": {},
   "source": [
    "$$\\begin{pmatrix}\n",
    "1 & 1\\\\ \n",
    "-1 & 3\n",
    "\\end{pmatrix}\n",
    "\\begin{pmatrix}\n",
    "1\\\\ \n",
    "1 \n",
    "\\end{pmatrix}=\n",
    "\\lambda\n",
    "\\begin{pmatrix}\n",
    "1\\\\ \n",
    "1\n",
    "\\end{pmatrix}.\n",
    "$$\n",
    "\n",
    "$$\\begin{cases}\n",
    "1+1=\\lambda \\\\ \n",
    "-1+3 = \\lambda\n",
    "\\end{cases}\n",
    "\\Rightarrow\n",
    "\\begin{cases}\n",
    "\\lambda=2\\\\ \n",
    "\\lambda=2\n",
    "\\end{cases}$$\n",
    "\n",
    "Таким образом, вектор $x=(1,1)$ является собственным вектором линейного оператора, заданного матрицей $A$, и его собственное значение составляет $\\lambda=2$"
   ]
  },
  {
   "cell_type": "code",
   "execution_count": 27,
   "id": "3b8eb675-e92d-455e-a515-4e9c4b0d90df",
   "metadata": {},
   "outputs": [
    {
     "name": "stdout",
     "output_type": "stream",
     "text": [
      "Собственные значения: [2.00000002 1.99999998]\n",
      "Собственные векторы: \n",
      "[[ 0.70710677 -0.70710679]\n",
      " [ 0.70710679 -0.70710677]]\n"
     ]
    }
   ],
   "source": [
    "a = np.array([[1, 1], [-1, 3]])\n",
    "w, v = eig(a)\n",
    "print(f'Собственные значения: {w}\\nСобственные векторы: \\n{v}')"
   ]
  },
  {
   "cell_type": "markdown",
   "id": "5c3feb92-47f6-4e6e-be54-c246eff9cc06",
   "metadata": {},
   "source": [
    "**4.** Пусть линейный оператор задан матрицей\n",
    "\n",
    "$$A=\\begin{pmatrix} 0 & 3 & 0\\\\ 3 & 0 & 0\\\\ 0 & 0 & 3 \\end{pmatrix}.$$\n",
    "\n",
    "Установить, является ли вектор $x=(3, -3, -4)$ собственным вектором этого линейного оператора."
   ]
  },
  {
   "cell_type": "markdown",
   "id": "5c2c5636-0c34-4dc3-97d0-68f8453e3da8",
   "metadata": {},
   "source": [
    "$$\\begin{pmatrix}\n",
    "0 & 3 & 0\\\\ \n",
    "3 & 0 & 0\\\\\n",
    "0 & 0 & 3\n",
    "\\end{pmatrix}\n",
    "\\begin{pmatrix}\n",
    "3\\\\\n",
    "-3\\\\\n",
    "-4\n",
    "\\end{pmatrix}=\n",
    "\\lambda\n",
    "\\begin{pmatrix}\n",
    "3\\\\\n",
    "-3\\\\\n",
    "-4\n",
    "\\end{pmatrix}\n",
    "$$\n",
    "\n",
    "$$\\begin{cases}\n",
    "3\\lambda=-3 \\cdot 3\\\\ \n",
    "3\\lambda=-3 \\cdot 3\\\\\n",
    "-4\\lambda=-4 \\cdot 3\n",
    "\\end{cases} \\Rightarrow\n",
    "\\begin{cases}\n",
    "\\lambda=-3\\\\ \n",
    "\\lambda=-3\\\\\n",
    "\\lambda=3\n",
    "\\end{cases}$$\n",
    "\n",
    "Такая система не имеет смысла, следовательно, вектор $x=(3, -3, -4)$ не является собственным вектором линейного оператора, заданного матрицей $A$."
   ]
  },
  {
   "cell_type": "code",
   "execution_count": 28,
   "id": "0eb00cfb-9732-4d4d-a789-96122132ef01",
   "metadata": {},
   "outputs": [
    {
     "name": "stdout",
     "output_type": "stream",
     "text": [
      "Собственные значения: [ 3. -3.  3.]\n",
      "Собственные векторы: \n",
      "[[ 0.70710678 -0.70710678  0.        ]\n",
      " [ 0.70710678  0.70710678  0.        ]\n",
      " [ 0.          0.          1.        ]]\n"
     ]
    }
   ],
   "source": [
    "a = np.array([[0, 3, 0], [3, 0, 0], [0, 0, 3]])\n",
    "w, v = eig(a)\n",
    "print(f'Собственные значения: {w}\\nСобственные векторы: \\n{v}')"
   ]
  }
 ],
 "metadata": {
  "kernelspec": {
   "display_name": "Python 3",
   "language": "python",
   "name": "python3"
  },
  "language_info": {
   "codemirror_mode": {
    "name": "ipython",
    "version": 3
   },
   "file_extension": ".py",
   "mimetype": "text/x-python",
   "name": "python",
   "nbconvert_exporter": "python",
   "pygments_lexer": "ipython3",
   "version": "3.9.5"
  },
  "toc-autonumbering": true,
  "toc-showcode": true
 },
 "nbformat": 4,
 "nbformat_minor": 5
}
