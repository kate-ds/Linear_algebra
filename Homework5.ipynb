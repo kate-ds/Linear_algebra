{
 "cells": [
  {
   "cell_type": "code",
   "execution_count": 59,
   "id": "12a47c0a-6471-4dd9-9a72-ccdf06320954",
   "metadata": {},
   "outputs": [],
   "source": [
    "import numpy as np\n",
    "from numpy.linalg import svd"
   ]
  },
  {
   "cell_type": "markdown",
   "id": "f8169adc-1fb8-4ad9-9b35-3492edaaa3c3",
   "metadata": {},
   "source": [
    "1. Найти с помощью NumPy SVD для матрицы\n",
    "\n",
    "$$\\begin{pmatrix}\n",
    "1 & 2 & 0\\\\ \n",
    "0 & 0 & 5\\\\ \n",
    "3 & -4 & 2\\\\ \n",
    "1 & 6 & 5\\\\ \n",
    "0 & 1 & 0\n",
    "\\end{pmatrix}.$$\n"
   ]
  },
  {
   "cell_type": "code",
   "execution_count": 64,
   "id": "d942f425-4ee7-431c-86d9-816ddf2127d8",
   "metadata": {},
   "outputs": [
    {
     "name": "stdout",
     "output_type": "stream",
     "text": [
      "Матрица А: [[ 1  2  0]\n",
      " [ 0  0  5]\n",
      " [ 3 -4  2]\n",
      " [ 1  6  5]\n",
      " [ 0  1  0]]\n"
     ]
    }
   ],
   "source": [
    "a = np.array([[1, 2, 0], [0, 0, 5], [3, -4, 2], [1, 6, 5], [0, 1, 0]])\n",
    "print(f'Матрица А: {a}')"
   ]
  },
  {
   "cell_type": "code",
   "execution_count": 65,
   "id": "91f3bbf0-79d8-4f71-978c-0f3913218d7b",
   "metadata": {},
   "outputs": [
    {
     "name": "stdout",
     "output_type": "stream",
     "text": [
      "Матрица U:\n",
      " [[ 0.17  0.16 -0.53 -0.8  -0.16]\n",
      " [ 0.39 -0.53  0.61 -0.43  0.03]\n",
      " [-0.14 -0.82 -0.52  0.14  0.07]\n",
      " [ 0.89  0.06 -0.25  0.38 -0.06]\n",
      " [ 0.08  0.11 -0.08 -0.11  0.98]]\n",
      "Матрица D:\n",
      " [[8.82 0.   0.  ]\n",
      " [0.   6.14 0.  ]\n",
      " [0.   0.   2.53]\n",
      " [0.   0.   0.  ]\n",
      " [0.   0.   0.  ]]\n",
      "Матрица V:\n",
      " [[ 0.07 -0.37 -0.93]\n",
      " [ 0.72  0.67 -0.21]\n",
      " [ 0.69 -0.65  0.31]]\n"
     ]
    }
   ],
   "source": [
    "u, s, w = svd(a)\n",
    "d = np.zeros_like(a, dtype=float)\n",
    "d[np.diag_indices(min(a.shape))] = s\n",
    "v = w.T\n",
    "print(f'Матрица U:\\n {u}\\nМатрица D:\\n {d}\\nМатрица V:\\n {v}')"
   ]
  },
  {
   "cell_type": "code",
   "execution_count": 63,
   "id": "67fbb546-4e62-44f8-84f6-da488b7a7601",
   "metadata": {},
   "outputs": [
    {
     "name": "stdout",
     "output_type": "stream",
     "text": [
      "Проверка:\n",
      " [[ 1.  2.  0.]\n",
      " [ 0. -0.  5.]\n",
      " [ 3. -4.  2.]\n",
      " [ 1.  6.  5.]\n",
      " [-0.  1. -0.]]\n"
     ]
    }
   ],
   "source": [
    "print(f'Проверка:\\n {u @ d @ v.T}')"
   ]
  },
  {
   "cell_type": "markdown",
   "id": "894708d6-7261-465a-88ce-5505384ee1af",
   "metadata": {},
   "source": [
    "2. Для матрицы из предыдущего задания найти:\n",
    "\n",
    "    а) евклидову норму;\n",
    "    \n",
    "    б) норму Фробениуса."
   ]
  },
  {
   "cell_type": "code",
   "execution_count": 68,
   "id": "aba8b932-a705-4fba-9973-4e7c6c14fd54",
   "metadata": {},
   "outputs": [
    {
     "data": {
      "text/plain": [
       "8.824868854820442"
      ]
     },
     "execution_count": 68,
     "metadata": {},
     "output_type": "execute_result"
    }
   ],
   "source": [
    "# норма Евклида совпадает с первым диагональным элементом матрицы D\n",
    "a_norm_e = s[0]\n",
    "a_norm_e"
   ]
  },
  {
   "cell_type": "code",
   "execution_count": 77,
   "id": "59a3aa3b-4422-4104-b864-c0d2f6048bfa",
   "metadata": {},
   "outputs": [
    {
     "data": {
      "text/plain": [
       "11.045361017187261"
      ]
     },
     "execution_count": 77,
     "metadata": {},
     "output_type": "execute_result"
    }
   ],
   "source": [
    "# норма Фробениуса равна корню квадратному из суммы диагональных элементов матрицы D\n",
    "a_norm_f = np.sqrt(np.sum([el**2 for el in s]))\n",
    "a_norm_f"
   ]
  },
  {
   "cell_type": "code",
   "execution_count": null,
   "id": "63fdc726-e1a1-4d0b-9717-ea3c70cbe6a4",
   "metadata": {},
   "outputs": [],
   "source": []
  }
 ],
 "metadata": {
  "kernelspec": {
   "display_name": "Python 3",
   "language": "python",
   "name": "python3"
  },
  "language_info": {
   "codemirror_mode": {
    "name": "ipython",
    "version": 3
   },
   "file_extension": ".py",
   "mimetype": "text/x-python",
   "name": "python",
   "nbconvert_exporter": "python",
   "pygments_lexer": "ipython3",
   "version": "3.9.5"
  },
  "toc-autonumbering": true,
  "toc-showcode": true
 },
 "nbformat": 4,
 "nbformat_minor": 5
}
