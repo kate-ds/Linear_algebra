{
 "cells": [
  {
   "cell_type": "code",
   "execution_count": 33,
   "id": "12a47c0a-6471-4dd9-9a72-ccdf06320954",
   "metadata": {},
   "outputs": [],
   "source": [
    "import numpy as np\n",
    "from numpy.linalg import matrix_rank"
   ]
  },
  {
   "cell_type": "markdown",
   "id": "f8169adc-1fb8-4ad9-9b35-3492edaaa3c3",
   "metadata": {},
   "source": [
    "### Часть 1  \n",
    "\n",
    "__1.__ Решить систему уравнений методом Гаусса:\n",
    "\n",
    "$$\\begin{cases}\n",
    "x_{1}+x_{2}-x_{3}-2x_{4}=0, \\\\\n",
    "2x_{1}+x_{2}-x_{3}+x_{4}=-2, \\\\\n",
    "x_{1}+x_{2}-3x_{3}+x_{4}=4.\n",
    "\\end{cases}$$"
   ]
  },
  {
   "cell_type": "markdown",
   "id": "e861bd46-7855-4612-b168-aea8e1f2c81e",
   "metadata": {},
   "source": [
    "$$\\tilde{A}=\\begin{pmatrix}\n",
    "\\left.\\begin{matrix}\n",
    "1 & 1 & -1 & -2\\\\ \n",
    "2 & 1 & -1 & 1\\\\ \n",
    "1 & 1 & -3 & 1\n",
    "\\end{matrix}\\right|\n",
    "\\begin{matrix}\n",
    "0\\\\ \n",
    "-2\\\\\n",
    "4\n",
    "\\end{matrix}\n",
    "\\end{pmatrix} = \\begin{pmatrix}\n",
    "\\left.\\begin{matrix}\n",
    "1 & 1 & -1 & -2\\\\ \n",
    "0 & -1 & 1 & 5\\\\ \n",
    "0 & 0 & -2 & 3\n",
    "\\end{matrix}\\right|\n",
    "\\begin{matrix}\n",
    "0\\\\ \n",
    "-2\\\\\n",
    "4\n",
    "\\end{matrix}\n",
    "\\end{pmatrix}$$\n",
    "\n",
    "$$rank \\tilde{A} = rank A = 3, ~n=4$$  \n",
    "Система имеет бесконечное множество решений  \n",
    "$$\\begin{cases}\n",
    "x_{1}+x_{2}-x_{3}-2x_{4}=0, \\\\\n",
    "x_{2}+x_{3}+5x_{4}=-2, \\\\\n",
    "-2x_{3}+3x_{4}=4, \\\\\n",
    "x_{4} = c\n",
    "\\end{cases} \\Rightarrow \n",
    "\\begin{cases}\n",
    "x_{1}=2c +\\frac{3c-4}{2} - \\frac{13c}{2} = -3c-2, \\\\\n",
    "x_{2}=\\frac{3c-4}{2} +5c +2 = \\frac{13c}{2}, \\\\\n",
    "x_{3}=\\frac{3c-4}{2}, \\\\\n",
    "x_{4} = c\n",
    "\\end{cases}$$\n",
    "\n",
    "Если $c=1$, то частное решение системы будет: \n",
    "$$\\begin{cases}\n",
    "x_{1}= -5, \\\\\n",
    "x_{2}=6.5, \\\\\n",
    "x_{3}=-0.5, \\\\\n",
    "x_{4} = 1\n",
    "\\end{cases}$$\n",
    "\n",
    "Общее решение системы:\n",
    "$$\\begin{cases}\n",
    "x_{1}= -3c-2, \\\\\n",
    "x_{2}=\\frac{13c}{2}, \\\\\n",
    "x_{3}=\\frac{3c-4}{2}, \\\\\n",
    "x_{4} = c\n",
    "\\end{cases}$$"
   ]
  },
  {
   "cell_type": "markdown",
   "id": "ffd85cf0-b772-4849-8214-b74f83fe886f",
   "metadata": {},
   "source": [
    "__2.__ Проверить на совместность и выяснить, сколько решений будет иметь система линейных уравнений:\n",
    "\n",
    "   а) $\\begin{cases}\n",
    "3x_{1}-x_{2}+x_{3}=4, \\\\\n",
    "2x_{1}-5x_{2}-3x_{3}=-17, \\\\\n",
    "x_{1}+x_{2}-x_{3}=0;\n",
    "\\end{cases}$\n",
    "    "
   ]
  },
  {
   "cell_type": "code",
   "execution_count": 36,
   "id": "83d3e6cf-0b94-4b97-ad65-11af82756495",
   "metadata": {
    "tags": []
   },
   "outputs": [
    {
     "data": {
      "text/plain": [
       "(3, 3)"
      ]
     },
     "execution_count": 36,
     "metadata": {},
     "output_type": "execute_result"
    }
   ],
   "source": [
    "a = np.array([[3, -1, 1], [2, -5, -3], [1, 1, -1]])\n",
    "a_tilda = np.array([[3, -1, 1, 4], [2, -5, -3, -17], [1, 1, -1, 0]])\n",
    "\n",
    "matrix_rank(a), matrix_rank(a_tilda)"
   ]
  },
  {
   "cell_type": "markdown",
   "id": "e7ab0a62-e5bf-44ee-9cac-c37986bba268",
   "metadata": {},
   "source": [
    "$$rank \\tilde{A} = rank A = 3, ~n=3$$  \n",
    "Система совместна, имеет единственное решение "
   ]
  },
  {
   "cell_type": "markdown",
   "id": "850ef236-66cc-49c7-aa38-fb124bfb40aa",
   "metadata": {},
   "source": [
    "   б) $\\begin{cases}\n",
    "2x_{1}-4x_{2}+6x_{3}=1, \\\\\n",
    "x_{1}-2x_{2}+3x_{3}=-2, \\\\\n",
    "3x_{1}-6x_{2}+9x_{3}=5;\n",
    "\\end{cases}$"
   ]
  },
  {
   "cell_type": "code",
   "execution_count": 38,
   "id": "a85243b8-6ed3-4f77-a37c-4bc9e724916d",
   "metadata": {},
   "outputs": [
    {
     "data": {
      "text/plain": [
       "(1, 2)"
      ]
     },
     "execution_count": 38,
     "metadata": {},
     "output_type": "execute_result"
    }
   ],
   "source": [
    "a = np.array([[2, -4, 6], [1, -2, 3], [3, -6, 9]])\n",
    "a_tilda = np.array([[2, -4, 6, 1], [1, -2, 3, -2], [3, -6, 9, 5]])\n",
    "\n",
    "matrix_rank(a), matrix_rank(a_tilda)"
   ]
  },
  {
   "cell_type": "markdown",
   "id": "636ee225-0c83-48c7-ad44-90d30681d275",
   "metadata": {},
   "source": [
    "$$rank \\tilde{A} \\neq rank A$$  \n",
    "Система несовместна, не имеет решений"
   ]
  },
  {
   "cell_type": "markdown",
   "id": "2cd6c458-5c39-481e-9eb4-47af2fdad1b8",
   "metadata": {},
   "source": [
    " в) $\\begin{cases}\n",
    "x_{1}+2x_{2}+5x_{3}=4, \\\\\n",
    "3x_{1}+x_{2}-8x_{3}=-2. \n",
    "\\end{cases}$"
   ]
  },
  {
   "cell_type": "code",
   "execution_count": 40,
   "id": "fea65b99-5cbe-4ff8-be08-3fe375405e43",
   "metadata": {},
   "outputs": [
    {
     "data": {
      "text/plain": [
       "(2, 2)"
      ]
     },
     "execution_count": 40,
     "metadata": {},
     "output_type": "execute_result"
    }
   ],
   "source": [
    "a = np.array([[1, 2, 5], [3, 1, -8]])\n",
    "a_tilda = np.array([[1, 2, 5, 4], [3, 1, -8, -2]])\n",
    "\n",
    "matrix_rank(a), matrix_rank(a_tilda)"
   ]
  },
  {
   "cell_type": "markdown",
   "id": "6316c361-b03b-48a6-b054-d6412b800fe5",
   "metadata": {},
   "source": [
    "$$rank \\tilde{A} = rank A = 2, ~n=3$$  \n",
    "Система совместна, имеет бесконечное множество решений"
   ]
  },
  {
   "cell_type": "markdown",
   "id": "1b6f169d-1a0a-4c68-b20a-0da3891b0d94",
   "metadata": {},
   "source": [
    "__3.__ Проверить на совместность и выяснить, сколько решений будет иметь система линейных уравнений, заданная расширенной матрицей\n",
    "\n",
    "$$\\tilde{A}=\\begin{pmatrix}\n",
    "\\left.\\begin{matrix}\n",
    "1 & 3 & -2 & 4\\\\ \n",
    "0 & 5 & 0 & 1\\\\ \n",
    "0 & 0 & 3 & 0\\\\ \n",
    "0 & 0 & 0 & 2\n",
    "\\end{matrix}\\right|\n",
    "\\begin{matrix}\n",
    "3\\\\ \n",
    "2\\\\\n",
    "4\\\\\n",
    "1\n",
    "\\end{matrix}\n",
    "\\end{pmatrix}.$$"
   ]
  },
  {
   "cell_type": "code",
   "execution_count": 42,
   "id": "af3ae737-7e83-461c-839b-b450c72a1187",
   "metadata": {},
   "outputs": [
    {
     "data": {
      "text/plain": [
       "(4, 4)"
      ]
     },
     "execution_count": 42,
     "metadata": {},
     "output_type": "execute_result"
    }
   ],
   "source": [
    "a = np.array([[1, 3, -2, 4], [0, 5, 0, 1], [0, 0, 3, 0], [0, 0, 0, 2]])\n",
    "a_tilda = np.array([[1, 3, -2, 4, 3], [0, 5, 0, 1, 2], [0, 0, 3, 0, 4], [0, 0, 0, 2, 1]])\n",
    "\n",
    "matrix_rank(a), matrix_rank(a_tilda)"
   ]
  },
  {
   "cell_type": "markdown",
   "id": "616715fb-8218-4775-9a61-ef39dd5b4700",
   "metadata": {},
   "source": [
    "$$rank \\tilde{A} = rank A = 4, ~n=4$$  \n",
    "Система совместна, имеет единственное решение "
   ]
  },
  {
   "cell_type": "markdown",
   "id": "0c5e0d93-3549-4354-a322-02eb86138fbe",
   "metadata": {},
   "source": [
    "__4.__ Дана система линейных уравнений, заданная расширенной матрицей\n",
    "\n",
    "$$\\tilde{A}=\\begin{pmatrix}\n",
    "\\left.\\begin{matrix}\n",
    "1 & 2 & 3\\\\ \n",
    "4 & 5 & 6\\\\ \n",
    "7 & 8 & 9\n",
    "\\end{matrix}\\right|\n",
    "\\begin{matrix}\n",
    "a\\\\ \n",
    "b\\\\\n",
    "c\n",
    "\\end{matrix}\n",
    "\\end{pmatrix}.$$\n",
    "\n",
    "Найти соотношение между параметрами $a$, $b$ и $c$, при которых система является несовместной."
   ]
  },
  {
   "cell_type": "markdown",
   "id": "332206db-d479-4191-851d-5aa23578a4dc",
   "metadata": {},
   "source": [
    "$$\\tilde{A}=\\begin{pmatrix}\n",
    "\\left.\\begin{matrix}\n",
    "1 & 2 & 3\\\\ \n",
    "4 & 5 & 6\\\\ \n",
    "7 & 8 & 9\n",
    "\\end{matrix}\\right|\n",
    "\\begin{matrix}\n",
    "a\\\\ \n",
    "b\\\\\n",
    "c\n",
    "\\end{matrix}\n",
    "\\end{pmatrix} = \n",
    "\\begin{pmatrix}\n",
    "\\left.\\begin{matrix}\n",
    "1 & 2 & 3\\\\ \n",
    "0 & -3 & -6\\\\ \n",
    "0 & -6 & -12\n",
    "\\end{matrix}\\right|\n",
    "\\begin{matrix}\n",
    "a\\\\ \n",
    "b-4a\\\\\n",
    "c -7a\n",
    "\\end{matrix}\n",
    "\\end{pmatrix} = \n",
    "\\begin{pmatrix}\n",
    "\\left.\\begin{matrix}\n",
    "1 & 2 & 3\\\\ \n",
    "0 & -3 & -6\\\\ \n",
    "0 & 0 & 0\n",
    "\\end{matrix}\\right|\n",
    "\\begin{matrix}\n",
    "a\\\\ \n",
    "b-4a\\\\\n",
    "c -2b +a\n",
    "\\end{matrix}\n",
    "\\end{pmatrix}\n",
    "$$\n",
    "\n",
    "Система будет несовместной при $c-2b+a \\neq 0$"
   ]
  },
  {
   "cell_type": "markdown",
   "id": "4562e660-ea50-4244-8581-6279b2c2856d",
   "metadata": {},
   "source": [
    "### Часть 2\n",
    "\n",
    "__1.__ Решить систему уравнений методом Крамера:\n",
    "\n",
    "   а) $\\begin{cases}\n",
    "x_{1}-2x_{2}=1 \\\\\n",
    "3x_{1}-4x_{2}=7\n",
    "\\end{cases}$\n",
    "    \n",
    "   б) $\\begin{cases}\n",
    "2x_{1}-x_{2}+5x_{3}=10 \\\\\n",
    "x_{1}+x_{2}-3x_{3}=-2 \\\\\n",
    "2x_{1}+4x_{2}+x_{3}=1\n",
    "\\end{cases}$"
   ]
  },
  {
   "cell_type": "markdown",
   "id": "fa3915ed-7df1-4148-abe5-f9313307d311",
   "metadata": {},
   "source": [
    " а) $\\begin{cases}\n",
    "x_{1}-2x_{2}=1 \\\\\n",
    "3x_{1}-4x_{2}=7\n",
    "\\end{cases}$ \n",
    "$$det A = \\begin{vmatrix}\n",
    "1 & -2\\\\ \n",
    "3 & -4\n",
    "\\end{vmatrix} = -4 + 6 = 2  \\neq 0,$$ следовательно, система совместна.\n",
    "\n",
    "$$det A_1 = \\begin{vmatrix}\n",
    "1 & -2\\\\ \n",
    "7 & -4\n",
    "\\end{vmatrix} = -4 + 14 = 10$$\n",
    "$$det A_2 = \\begin{vmatrix}\n",
    "1 & 1\\\\ \n",
    "3 & 7\n",
    "\\end{vmatrix} = 7 - 3 = 4$$\n",
    "\n",
    "Найдем решение по формулам Крамера:\n",
    "\n",
    "$$x_{1} = \\frac{detA_{1}}{detA} = \\frac{10}{2}=5$$\n",
    "\n",
    "$$x_{2} = \\frac{detA_{2}}{detA} = \\frac{4}{2}=2,$$  "
   ]
  },
  {
   "cell_type": "markdown",
   "id": "ca2848bc-398b-4cc6-8f2a-75b93c57635e",
   "metadata": {},
   "source": [
    " б) $\\begin{cases}\n",
    "2x_{1}-x_{2}+5x_{3}=10 \\\\\n",
    "x_{1}+x_{2}-3x_{3}=-2 \\\\\n",
    "2x_{1}+4x_{2}+x_{3}=1\n",
    "\\end{cases}$  \n",
    "\n",
    "Найдем определитель матрицы коэффициентов:\n",
    "\n",
    "$$detA=\\begin{vmatrix}\n",
    "2 & -1 & 5\\\\ \n",
    "1 & 1 & -3\\\\ \n",
    "2 & 4 & 1\n",
    "\\end{vmatrix}=\n",
    "2\\begin{vmatrix}\n",
    "1 & -3\\\\ \n",
    "4 & 1 \n",
    "\\end{vmatrix}+\n",
    "1\\begin{vmatrix}\n",
    "1 & -3\\\\ \n",
    "2 & 1 \n",
    "\\end{vmatrix}+5\n",
    "\\begin{vmatrix}\n",
    "1 & 1 \\\\ \n",
    "2 & 4\n",
    "\\end{vmatrix}=2(1 + 12) +1 (1 + 6) + 5(4 - 2) = 43 \\neq 0,$$\n",
    "\n",
    "следовательно, система совместна.\n",
    "\n",
    "$$detA_{1}=\\begin{vmatrix}\n",
    "10 & -1 & 5\\\\ \n",
    "-2 & 1 & -3\\\\ \n",
    "1 & 4 & 1\n",
    "\\end{vmatrix}=\n",
    "10(1 +12) +1(-2 +3) +5 (-8-1) = 130 + 1 -45 = 86$$\n",
    "\n",
    "$$detA_{2}=\\begin{vmatrix}\n",
    "2 & 10 & 5\\\\ \n",
    "1 & -2 & -3\\\\ \n",
    "2 & 1 & 1\n",
    "\\end{vmatrix}=\n",
    "2(-2 +3) - 10(1 + 6) +5 (1 + 4) = 2 -70 +25 = -43$$\n",
    "\n",
    "$$detA_{3}=\\begin{vmatrix}\n",
    "2 & -1 & 10\\\\ \n",
    "1 & 1 & -2\\\\ \n",
    "2 & 4 & 1\n",
    "\\end{vmatrix}=\n",
    "2(1 + 8) +1 (1 + 4) + 10(4-2) = 18 + 5 +20 = 43$$\n",
    "\n",
    "Найдем решение по формулам Крамера:\n",
    "\n",
    "$$x_{1} = \\frac{detA_{1}}{detA} = \\frac{86}{43}=2,$$\n",
    "\n",
    "$$x_{2} = \\frac{detA_{2}}{detA} = \\frac{-43}{43}=-1,$$\n",
    "\n",
    "$$x_{3} = \\frac{detA_{3}}{detA} = \\frac{43}{43}=1.$$"
   ]
  },
  {
   "cell_type": "markdown",
   "id": "7af41124-f808-4a9d-b84e-940200fdccbd",
   "metadata": {},
   "source": [
    "__2.__ Найти $L$-матрицу $LU$-разложения для матрицы коэффициентов:\n",
    "\n",
    "   а)$$\\begin{pmatrix}\n",
    "1 & 2 & 4 \\\\ \n",
    "2 & 9 & 12 \\\\ \n",
    "3 & 26 & 30\n",
    "\\end{pmatrix}$$\n",
    " \n",
    "   б)$$\\begin{pmatrix}\n",
    "1 & 1 & 2 & 4\\\\ \n",
    "2 & 5 & 8 & 9\\\\ \n",
    "3 & 18 & 29 & 18\\\\\n",
    "4 & 22 & 53 & 33\n",
    "\\end{pmatrix}$$"
   ]
  },
  {
   "cell_type": "markdown",
   "id": "5b73d621-7a04-4045-84d9-1875232a6107",
   "metadata": {},
   "source": [
    "   а)$$\\begin{pmatrix}\n",
    "1 & 2 & 4 \\\\ \n",
    "2 & 9 & 12 \\\\ \n",
    "3 & 26 & 30\n",
    "\\end{pmatrix} = \n",
    "\\begin{pmatrix}\n",
    "1 & 2 & 4 \\\\ \n",
    "0 & 5 & 4 \\\\ \n",
    "3 & 26 & 30\n",
    "\\end{pmatrix} = \n",
    "\\begin{pmatrix}\n",
    "1 & 2 & 4 \\\\ \n",
    "0 & 5 & 4 \\\\ \n",
    "0 & 20 & 18\n",
    "\\end{pmatrix} = \n",
    "\\begin{pmatrix}\n",
    "1 & 2 & 4 \\\\ \n",
    "0 & 5 & 4 \\\\ \n",
    "0 & 0 & 2\n",
    "\\end{pmatrix} = U$$\n",
    "\n",
    "$$L = \\begin{pmatrix}\n",
    "1 & 0 & 0 \\\\ \n",
    "2 & 1 & 0 \\\\ \n",
    "3 & 4 & 1\n",
    "\\end{pmatrix}$$"
   ]
  },
  {
   "cell_type": "code",
   "execution_count": 45,
   "id": "c6134f51-9d28-498c-8647-4c9473e57a94",
   "metadata": {},
   "outputs": [
    {
     "name": "stdout",
     "output_type": "stream",
     "text": [
      "[[ 1  2  4]\n",
      " [ 2  9 12]\n",
      " [ 3 26 30]]\n"
     ]
    }
   ],
   "source": [
    "l = np.array([[1, 0, 0], [2, 1, 0], [3, 4, 1]])\n",
    "u = np.array([[1, 2, 4], [0, 5, 4], [0, 0, 2]])\n",
    "\n",
    "print(l @ u)"
   ]
  },
  {
   "cell_type": "markdown",
   "id": "151b443b-a046-4f43-8711-36cedef75c18",
   "metadata": {},
   "source": [
    "   б)$$\\begin{pmatrix}\n",
    "1 & 1 & 2 & 4\\\\ \n",
    "2 & 5 & 8 & 9\\\\ \n",
    "3 & 18 & 29 & 18\\\\\n",
    "4 & 22 & 53 & 33\n",
    "\\end{pmatrix} = \\begin{pmatrix}\n",
    "1 & 1 & 2 & 4\\\\ \n",
    "0 & 3 & 4 & 1\\\\ \n",
    "0 & 15 & 23 & 6\\\\\n",
    "4 & 18 & 45 & 17\n",
    "\\end{pmatrix} = \\begin{pmatrix}\n",
    "1 & 1 & 2 & 4\\\\ \n",
    "0 & 3 & 4 & 1\\\\ \n",
    "0 & 0 & 3 & 1\\\\\n",
    "0 & 0 & 21 & 11\n",
    "\\end{pmatrix} = \\begin{pmatrix}\n",
    "1 & 1 & 2 & 4\\\\ \n",
    "0 & 3 & 4 & 1\\\\ \n",
    "0 & 0 & 3 & 1\\\\\n",
    "0 & 0 & 0 & 4\n",
    "\\end{pmatrix} = U$$\n",
    "\n",
    "$$L = \\begin{pmatrix}\n",
    "1 & 0 & 0 & 0 \\\\ \n",
    "2 & 1 & 0 & 0 \\\\ \n",
    "3 & 5 & 1 & 0 \\\\\n",
    "4 & 6 & 7 & 1\n",
    "\\end{pmatrix}$$"
   ]
  },
  {
   "cell_type": "code",
   "execution_count": 47,
   "id": "4229fd0b-4a12-405c-a615-007a097256f0",
   "metadata": {},
   "outputs": [
    {
     "name": "stdout",
     "output_type": "stream",
     "text": [
      "[[ 1  1  2  4]\n",
      " [ 2  5  8  9]\n",
      " [ 3 18 29 18]\n",
      " [ 4 22 53 33]]\n"
     ]
    }
   ],
   "source": [
    "l = np.array([[1, 0, 0, 0], [2, 1, 0, 0], [3, 5, 1, 0], [4, 6, 7, 1]])\n",
    "u = np.array([[1, 1, 2, 4], [0, 3, 4, 1], [0, 0, 3, 1], [0, 0, 0, 4]])\n",
    "\n",
    "print(l @ u)"
   ]
  },
  {
   "cell_type": "markdown",
   "id": "40981900-ae36-406a-8a3b-b716d94cdb44",
   "metadata": {},
   "source": [
    "  \n",
    "__3.__ Решить систему линейных уравнений методом $LU$-разложения\n",
    "\n",
    "$$\\begin{cases}\n",
    "2x_{1}+x_{2}+3x_{3}=1 \\\\\n",
    "11x_{1}+7x_{2}+5x_{3}=-6 \\\\\n",
    "9x_{1}+8x_{2}+4x_{3}=-5\n",
    "\\end{cases}$$"
   ]
  },
  {
   "cell_type": "markdown",
   "id": "75cca226-bfc8-4462-b35e-25649dd8d7e5",
   "metadata": {},
   "source": [
    "а)$$A = \\begin{pmatrix}\n",
    "2 & 1 & 3 \\\\ \n",
    "11 & 7 & 5 \\\\ \n",
    "9 & 8 & 4\n",
    "\\end{pmatrix} $$\n",
    "1) Найдем матрицы LU:  \n",
    "\n",
    "$$ \n",
    "\\begin{pmatrix}\n",
    "2 & 1 & 3 \\\\ \n",
    "0 & \\frac{3}{2} & -\\frac{23}{2} \\\\ \n",
    "0 & 3.5 & -9.5\n",
    "\\end{pmatrix} = \\begin{pmatrix}\n",
    "2 & 1 & 3 \\\\ \n",
    "0 & \\frac{3}{2} & -\\frac{23}{2} \\\\ \n",
    "0 & 0 & \\frac{52}{3}\n",
    "\\end{pmatrix} = U$$\n",
    "\n",
    "$$L = \\begin{pmatrix}\n",
    "1 & 0 & 0 \\\\ \n",
    "\\frac{11}{2} & 1 & 0 \\\\ \n",
    "\\frac{9}{2} & \\frac{7}{3} & 1\n",
    "\\end{pmatrix}$$\n",
    "\n",
    "2) Решим $Ly = b$  \n",
    "\n",
    "$$\\begin{cases}\n",
    "y_{1}=1 \\\\\n",
    "\\frac{11}{2}y_1 + y_2  =-6 \\\\\n",
    "\\frac{9}{2}y_1 +\\frac{7}{3}y_2 + y_3=-5\n",
    "\\end{cases} \\Rightarrow \n",
    "\\begin{cases}\n",
    "y_{1}=1 \\\\\n",
    "y_2  =-\\frac{23}{2} \\\\\n",
    "y_3=\\frac{52}{3}\n",
    "\\end{cases}$$\n",
    "\n",
    "3) Решим $Ux = y$  \n",
    "\n",
    "$$\\begin{cases}\n",
    "2x_1 + x_2 + 3x_3=1 \\\\\n",
    " \\frac{3}{2}x_2 -\\frac{23}{2}x_3  =-\\frac{23}{2} \\\\\n",
    "\\frac{52}{3}x_3=\\frac{52}{3}\n",
    "\\end{cases} \\Rightarrow\n",
    "\\begin{cases}\n",
    "x_1 = -1 \\\\\n",
    "x_2 = 0 \\\\\n",
    "x_3=1\n",
    "\\end{cases}\n",
    "$$\n"
   ]
  },
  {
   "cell_type": "markdown",
   "id": "d6cfa93e-824f-4a22-9d29-d88a6007ee50",
   "metadata": {},
   "source": [
    "__4*.__ Решить систему линейных уравнений методом Холецкого\n",
    "\n",
    "$$\\begin{cases}\n",
    "81x_{1}-45x_{2}+45x_{3}=531 \\\\\n",
    "-45x_{1}+50x_{2}-15x_{3}=-460 \\\\\n",
    "45x_{1}-15x_{2}+38x_{3}=193\n",
    "\\end{cases}$$\n"
   ]
  },
  {
   "cell_type": "markdown",
   "id": "01045874-dde2-4fee-a17e-9585db3a7533",
   "metadata": {},
   "source": [
    "1) Произведем разложение на $LL^{T}$:\n",
    "\n",
    "$$l_{11}=\\sqrt{a_{11}}=\\sqrt{81} = 9,$$\n",
    "$$l_{21}=\\frac{a_{21}}{l_{11}}=\\frac{-45}{9} = -5,$$\n",
    "$$l_{31}=\\frac{a_{31}}{l_{11}}=\\frac{45}{9} = 5,$$\n",
    "\n",
    "$$l_{22}=\\sqrt{a_{22}-l_{21}^{2}}=\\sqrt{50 - 25}=5,$$\n",
    "$$l_{32}=\\frac{1}{l_{22}}\\left ( a_{32}-l_{21}l_{31} \\right)=\\frac{1}{5}\\left ( -15 +25 \\right)=2,$$\n",
    "\n",
    "$$l_{33}=\\sqrt{a_{33}-l_{31}^{2}-l_{32}^{2}}=\\sqrt{38-25-4}=3$$\n",
    "\n",
    "Получили матрицу \n",
    "\n",
    "$$L = \\begin{pmatrix}\n",
    "9 & 0 & 0 \\\\ \n",
    "-5 & 5 & 0 \\\\ \n",
    "5 & 2 & 3\n",
    "\\end{pmatrix}, \n",
    "\\; \\; \n",
    "L^{T} = \\begin{pmatrix}\n",
    "9 & -5 & 5 \\\\ \n",
    "0 & 5 & 2 \\\\ \n",
    "0 & 0 & 3\n",
    "\\end{pmatrix}.$$\n",
    "\n",
    "2) Решим систему $Ly=b:$\n",
    "\n",
    "$$\\begin{cases}\n",
    "9y_{1}=531, \\\\\n",
    "-5y_{1}+5y_{2}=-460, \\\\\n",
    "5y_{1}+2y_{2}+3y_{3}=193.\n",
    "\\end{cases} \\Rightarrow \\begin{cases}\n",
    "y_{1} = 59, \\\\\n",
    "y_{2}= (-460+5 \\cdot 59)/5 = -33, \\\\\n",
    "y_{3}=(193 - 5 \\cdot 59 - 2 \\cdot (-33))/3 = -12.\n",
    "\\end{cases}$$\n",
    "\n",
    "3) решим систему $L^{T}x=y:$\n",
    "\n",
    "$$\\begin{cases}\n",
    "9 x_{1} - 5 x_{2} + 5x_{3}= 59, \\\\\n",
    "5 x_{2} + 2x_{3} = -33, \\\\\n",
    "3x_{3} = -12.\n",
    "\\end{cases} \\Rightarrow \\begin{cases}\n",
    "x_{1} = (59 -5 (-4) + 5 (-5)) / 9 = 6, \\\\\n",
    "x_{2} = (-33 + 8)/ 5 = -5, \\\\\n",
    "x_{3} = -4.\n",
    "\\end{cases}$$"
   ]
  },
  {
   "cell_type": "code",
   "execution_count": null,
   "id": "f02c15b3-7fab-4898-a78b-9ae7a5776c73",
   "metadata": {},
   "outputs": [],
   "source": [
    "__5*.__ Написать на Python программу с реализацией одного из изученных алгоритмов решения СЛАУ."
   ]
  }
 ],
 "metadata": {
  "kernelspec": {
   "display_name": "Python 3",
   "language": "python",
   "name": "python3"
  },
  "language_info": {
   "codemirror_mode": {
    "name": "ipython",
    "version": 3
   },
   "file_extension": ".py",
   "mimetype": "text/x-python",
   "name": "python",
   "nbconvert_exporter": "python",
   "pygments_lexer": "ipython3",
   "version": "3.9.5"
  },
  "toc-autonumbering": true,
  "toc-showcode": true
 },
 "nbformat": 4,
 "nbformat_minor": 5
}
