{
 "cells": [
  {
   "cell_type": "markdown",
   "id": "0ec689cc-05a7-40bc-b52c-7cf11bba2c80",
   "metadata": {},
   "source": [
    "### Часть 1"
   ]
  },
  {
   "cell_type": "markdown",
   "id": "680d7ba8-bac6-49c1-a94a-97577d1766e9",
   "metadata": {},
   "source": [
    "__1.__ Исследовать на линейную зависимость:\n",
    "\n",
    "$$f_{1}(x)=e^{x}, f_{2}(x)=1, f_{3}(x)=x+1, f_{4}(x)=x-e^{x}.$$"
   ]
  },
  {
   "cell_type": "markdown",
   "id": "9c14ec3b-295b-4376-baf1-b61f4eebf92d",
   "metadata": {},
   "source": [
    "Видно, что вектора можно выразить через комбинацию друг друга,  \n",
    "\n",
    "$$f_{1}(x) = f_{3}(x) - f_{2}(x) - f_{4}(x)$$\n",
    "Следовательно, вектора линейно зависимы."
   ]
  },
  {
   "cell_type": "markdown",
   "id": "b1921f05-c622-4ca1-8d43-1871b6c45447",
   "metadata": {},
   "source": [
    "__2.__ Исследовать на линейную зависимость:\n",
    "$$f_{1}(x)=2, f_{2}(x)=x, f_{3}(x)=x^{2}, f_{4}(x)=(x+1)^{2}$$"
   ]
  },
  {
   "cell_type": "markdown",
   "id": "169334e3-9f99-44df-82c6-a8a52a5c7ee7",
   "metadata": {},
   "source": [
    "Вектора можно выразить через линейную комбинацию друг друга,  \n",
    "$$f_{4}(x) = f_{3}(x) + 2f_{2}(x) + \\frac{1}{2}f_{1}(x)$$\n",
    "Следовательно, вектора линейно зависимы."
   ]
  },
  {
   "cell_type": "markdown",
   "id": "0a209115-beb3-4ade-9a60-f001db9fe353",
   "metadata": {},
   "source": [
    "__3.__ Найти координаты вектора $x = (2, 3, 5)\\in \\mathbb{R}^{3}$ в базисе $b_{1}=(0, 0, 10)$, $b_{2}=(2, 0, 0)$, $b_{3}=(0, 1, 0)$."
   ]
  },
  {
   "cell_type": "markdown",
   "id": "4449ff94-73a6-41d1-9dd8-14ca3039397a",
   "metadata": {},
   "source": [
    "$$x = 2b_1 + b_2 + 3b_3 \\Rightarrow x = (2, 1, 3)$$"
   ]
  },
  {
   "cell_type": "markdown",
   "id": "3111d7ef-4a81-4c59-be2f-a65643737d72",
   "metadata": {},
   "source": [
    "__4.__ Найти координаты вектора $3x^{2}-2x+2\\in\\mathbb{R}^{3}[x]$:\n",
    "\n",
    "а) в базисе $1$, $x$, $x^{2}$;\n",
    "\n",
    "б) в базисе $x^{2}$, $x-1$, $1$."
   ]
  },
  {
   "cell_type": "markdown",
   "id": "8bab6d81-5b6b-4cfb-b371-4a68e72e67e4",
   "metadata": {},
   "source": [
    "а) $e_1 = 1$, $e_2 = x$, $e_3 = x^{2}$:  \n",
    "\n",
    "$$3x^2-2x+2 =2e_1 -2e_2 + 3e_3 \\Rightarrow (2, -2, 3)$$\n"
   ]
  },
  {
   "cell_type": "markdown",
   "id": "029ec7d5-d71e-410d-bdd5-5aa18ad85550",
   "metadata": {},
   "source": [
    "б) $e_1 = x^{2}$, $e_2 = x-1$, $e_3 = 1$:   \n",
    "\n",
    "$$3x^2-2x+2 = 3x^2 - 2(x-1) = 3e_1 -2e_2 \\Rightarrow (3, -2, 0)$$"
   ]
  },
  {
   "cell_type": "markdown",
   "id": "74073793-595a-4984-9a21-4e14375093ab",
   "metadata": {},
   "source": [
    "__5.__ Установить, является ли линейным подпространством:\n",
    "\n",
    "а) совокупность всех векторов трехмерного пространства, у которых по крайней мере одна из первых двух координат равна нулю;\n",
    "    \n",
    "б) все векторы, являющиеся линейными комбинациями данных векторов $\\{u_{1}, u_{2}, \\ldots, u_{n}\\}$."
   ]
  },
  {
   "cell_type": "markdown",
   "id": "dfe00284-a3fd-4210-9f8b-11576926c7d2",
   "metadata": {},
   "source": [
    "a) совокупность всех векторов трехмерного пространства, у которых по крайней мере одна из первых двух координат равна нулю;  \n",
    "1. $(a, 0, b) + (a, 0, b) = (2a, 0, 2b)$  \n",
    "$\\lambda(a, 0, b) = (\\lambda a, 0, \\lambda b)$  \n",
    "2. $(0, a, b) + (0, a, b) = (0, 2a, 2b)$  \n",
    "$\\lambda(0, a, b) = (0,\\lambda a, \\lambda b)$\n",
    "3. $(0, 0, a) + (0, 0, a) = (0, 0, 2a)$  \n",
    "$\\lambda(0, 0, a) = (0,0, \\lambda a)$\n",
    "\n",
    "Является линейным подпространством"
   ]
  },
  {
   "cell_type": "markdown",
   "id": "8afe9342-e1a4-4ad5-bff8-1ed940805b5f",
   "metadata": {},
   "source": [
    "б) все векторы, являющиеся линейными комбинациями данных векторов $\\{u_{1}, u_{2}, \\ldots, u_{n}\\}$.\n",
    "\n",
    "$a_1 = \\lambda_1 U_1 + \\lambda_2 U_2 + ... + \\lambda_n Un$  \n",
    "$a_2 = \\mu_1 U_1 + \\mu_2 U_2 + ... + \\lambda_n Un$  \n",
    "\n",
    "1. $a_1 + a_2 = (\\lambda_1 U_1 + \\lambda_2 U_2 + ... + \\lambda_n Un) + (\\mu_1 U_1 + \\mu_2 U_2 + ... + \\lambda_n Un) =\\\\= (\\lambda_1 + \\mu_1 )U_1 + (\\lambda_2 + \\mu_2 )U_2 + ... + (\\lambda_n + \\mu_n )U_n$\n",
    "2. $k*a_1 = k(\\lambda_1 U_1 + \\lambda_2 U_2 + ... + \\lambda_n Un) = (k\\lambda_1 U_1 + k\\lambda_2 U_2 + ... + k\\lambda_n Un)$ \n",
    "\n",
    "Является линейным подпространством"
   ]
  },
  {
   "cell_type": "markdown",
   "id": "baeae6d2-f0b9-45e4-a77a-092a649ac013",
   "metadata": {},
   "source": [
    "### Часть 2"
   ]
  },
  {
   "cell_type": "markdown",
   "id": "70ff37f1-a056-4620-9346-671e819f3dc4",
   "metadata": {},
   "source": [
    "__1.__ Найти скалярное произведение векторов $x, y \\in \\mathbb{R}$:<br>\n",
    "а) $x=(0,-3, 6),~y=(-4, 7, 9);$<br>\n",
    "б) $x=(7, -4, 0, 1),~y=(-3, 1, 11, 2).$"
   ]
  },
  {
   "cell_type": "code",
   "execution_count": null,
   "id": "cd2fcd20-1feb-497d-941f-959bb02092ca",
   "metadata": {},
   "outputs": [],
   "source": []
  },
  {
   "cell_type": "markdown",
   "id": "83f4060e-239c-4851-baae-f2b8815ec8aa",
   "metadata": {},
   "source": [
    "__2.__ Найти нормы векторов $(4, 2, 4)$ и $(12, 3, 4)$ и угол между ними.\n"
   ]
  },
  {
   "cell_type": "code",
   "execution_count": null,
   "id": "6f1fc9d4-c139-494b-90c5-e609d217f5fb",
   "metadata": {},
   "outputs": [],
   "source": []
  },
  {
   "cell_type": "markdown",
   "id": "acbe6cae-6ad2-44f7-83bc-2357bc7fbc73",
   "metadata": {},
   "source": [
    "__3.__ Будет ли линейное пространство евклидовым, если за скалярное произведение принять:<br>\n",
    "а) произведение длин векторов;<br>\n",
    "б) утроенное обычное скалярное произведение векторов?"
   ]
  },
  {
   "cell_type": "code",
   "execution_count": null,
   "id": "0d810ebc-a0cb-440b-b3af-482071246e05",
   "metadata": {},
   "outputs": [],
   "source": []
  },
  {
   "cell_type": "markdown",
   "id": "cb829680-9196-416c-afd5-72da422df38e",
   "metadata": {},
   "source": [
    "__4.__ Какие из нижеперечисленных векторов образуют ортонормированный базис в линейном пространстве $\\mathbb{R}^{3}$:<br>\n",
    "а) $(1,0,0),(0,0,1);$ <br>\n",
    "б) $(1/\\sqrt{2},-1/\\sqrt{2},0),(1/\\sqrt{2},1/\\sqrt{2},0), (0,0,1);$<br>\n",
    "в) $(1/2, -1/2, 0), (0, 1/2, 1/2), (0,0,1);$<br>\n",
    "г) $(1,0,0),(0,1,0),(0,0,1)?$ "
   ]
  },
  {
   "cell_type": "code",
   "execution_count": null,
   "id": "1401d7e9-6d5e-4f79-afba-640a35cd9f54",
   "metadata": {},
   "outputs": [],
   "source": []
  }
 ],
 "metadata": {
  "kernelspec": {
   "display_name": "Python 3",
   "language": "python",
   "name": "python3"
  },
  "language_info": {
   "codemirror_mode": {
    "name": "ipython",
    "version": 3
   },
   "file_extension": ".py",
   "mimetype": "text/x-python",
   "name": "python",
   "nbconvert_exporter": "python",
   "pygments_lexer": "ipython3",
   "version": "3.9.5"
  }
 },
 "nbformat": 4,
 "nbformat_minor": 5
}
