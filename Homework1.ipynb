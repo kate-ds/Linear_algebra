{
 "cells": [
  {
   "cell_type": "markdown",
   "id": "0ec689cc-05a7-40bc-b52c-7cf11bba2c80",
   "metadata": {},
   "source": [
    "### Часть 1"
   ]
  },
  {
   "cell_type": "markdown",
   "id": "680d7ba8-bac6-49c1-a94a-97577d1766e9",
   "metadata": {},
   "source": [
    "__1.__ Исследовать на линейную зависимость:\n",
    "\n",
    "$$f_{1}(x)=e^{x}, f_{2}(x)=1, f_{3}(x)=x+1, f_{4}(x)=x-e^{x}.$$"
   ]
  },
  {
   "cell_type": "markdown",
   "id": "9c14ec3b-295b-4376-baf1-b61f4eebf92d",
   "metadata": {},
   "source": [
    "Видно, что вектора можно выразить через комбинацию друг друга,  \n",
    "\n",
    "$$f_{1}(x) = f_{3}(x) - f_{2}(x) - f_{4}(x)$$\n",
    "Следовательно, вектора линейно зависимы."
   ]
  },
  {
   "cell_type": "markdown",
   "id": "b1921f05-c622-4ca1-8d43-1871b6c45447",
   "metadata": {},
   "source": [
    "__2.__ Исследовать на линейную зависимость:\n",
    "$$f_{1}(x)=2, f_{2}(x)=x, f_{3}(x)=x^{2}, f_{4}(x)=(x+1)^{2}$$"
   ]
  },
  {
   "cell_type": "markdown",
   "id": "169334e3-9f99-44df-82c6-a8a52a5c7ee7",
   "metadata": {},
   "source": [
    "Вектора можно выразить через линейную комбинацию друг друга,  \n",
    "$$f_{4}(x) = f_{3}(x) + 2f_{2}(x) + \\frac{1}{2}f_{1}(x)$$\n",
    "Следовательно, вектора линейно зависимы."
   ]
  },
  {
   "cell_type": "markdown",
   "id": "0a209115-beb3-4ade-9a60-f001db9fe353",
   "metadata": {},
   "source": [
    "__3.__ Найти координаты вектора $x = (2, 3, 5)\\in \\mathbb{R}^{3}$ в базисе $b_{1}=(0, 0, 10)$, $b_{2}=(2, 0, 0)$, $b_{3}=(0, 1, 0)$."
   ]
  },
  {
   "cell_type": "markdown",
   "id": "4449ff94-73a6-41d1-9dd8-14ca3039397a",
   "metadata": {},
   "source": [
    "$$x = 2b_1 + b_2 + 3b_3 \\Rightarrow x = (2, 1, 3)$$"
   ]
  },
  {
   "cell_type": "markdown",
   "id": "3111d7ef-4a81-4c59-be2f-a65643737d72",
   "metadata": {},
   "source": [
    "__4.__ Найти координаты вектора $3x^{2}-2x+2\\in\\mathbb{R}^{3}[x]$:\n",
    "\n",
    "а) в базисе $1$, $x$, $x^{2}$;\n",
    "\n",
    "б) в базисе $x^{2}$, $x-1$, $1$."
   ]
  },
  {
   "cell_type": "markdown",
   "id": "8bab6d81-5b6b-4cfb-b371-4a68e72e67e4",
   "metadata": {},
   "source": [
    "а) $e_1 = 1$, $e_2 = x$, $e_3 = x^{2}$:  \n",
    "\n",
    "$$3x^2-2x+2 =2e_1 -2e_2 + 3e_3 \\Rightarrow (2, -2, 3)$$\n"
   ]
  },
  {
   "cell_type": "markdown",
   "id": "029ec7d5-d71e-410d-bdd5-5aa18ad85550",
   "metadata": {},
   "source": [
    "б) $e_1 = x^{2}$, $e_2 = x-1$, $e_3 = 1$:   \n",
    "\n",
    "$$3x^2-2x+2 = 3x^2 - 2(x-1) = 3e_1 -2e_2 \\Rightarrow (3, -2, 0)$$"
   ]
  },
  {
   "cell_type": "markdown",
   "id": "74073793-595a-4984-9a21-4e14375093ab",
   "metadata": {},
   "source": [
    "__5.__ Установить, является ли линейным подпространством:\n",
    "\n",
    "а) совокупность всех векторов трехмерного пространства, у которых по крайней мере одна из первых двух координат равна нулю;\n",
    "    \n",
    "б) все векторы, являющиеся линейными комбинациями данных векторов $\\{u_{1}, u_{2}, \\ldots, u_{n}\\}$."
   ]
  },
  {
   "cell_type": "markdown",
   "id": "dfe00284-a3fd-4210-9f8b-11576926c7d2",
   "metadata": {},
   "source": [
    "a) совокупность всех векторов трехмерного пространства, у которых по крайней мере одна из первых двух координат равна нулю;  \n",
    "1. $(a, 0, b) + (a, 0, b) = (2a, 0, 2b)$  \n",
    "$\\lambda(a, 0, b) = (\\lambda a, 0, \\lambda b)$  \n",
    "2. $(0, a, b) + (0, a, b) = (0, 2a, 2b)$  \n",
    "$\\lambda(0, a, b) = (0,\\lambda a, \\lambda b)$\n",
    "3. $(0, 0, a) + (0, 0, a) = (0, 0, 2a)$  \n",
    "$\\lambda(0, 0, a) = (0,0, \\lambda a)$\n",
    "\n",
    "Является линейным подпространством"
   ]
  },
  {
   "cell_type": "markdown",
   "id": "8afe9342-e1a4-4ad5-bff8-1ed940805b5f",
   "metadata": {},
   "source": [
    "б) все векторы, являющиеся линейными комбинациями данных векторов $\\{u_{1}, u_{2}, \\ldots, u_{n}\\}$.\n",
    "\n",
    "$a_1 = \\lambda_1 U_1 + \\lambda_2 U_2 + ... + \\lambda_n Un$  \n",
    "$a_2 = \\mu_1 U_1 + \\mu_2 U_2 + ... + \\lambda_n Un$  \n",
    "\n",
    "1. $a_1 + a_2 = (\\lambda_1 U_1 + \\lambda_2 U_2 + ... + \\lambda_n Un) + (\\mu_1 U_1 + \\mu_2 U_2 + ... + \\lambda_n Un) =\\\\= (\\lambda_1 + \\mu_1 )U_1 + (\\lambda_2 + \\mu_2 )U_2 + ... + (\\lambda_n + \\mu_n )U_n$\n",
    "2. $k*a_1 = k(\\lambda_1 U_1 + \\lambda_2 U_2 + ... + \\lambda_n Un) = (k\\lambda_1 U_1 + k\\lambda_2 U_2 + ... + k\\lambda_n Un)$ \n",
    "\n",
    "Является линейным подпространством"
   ]
  },
  {
   "cell_type": "markdown",
   "id": "baeae6d2-f0b9-45e4-a77a-092a649ac013",
   "metadata": {},
   "source": [
    "### Часть 2"
   ]
  },
  {
   "cell_type": "code",
   "execution_count": 46,
   "id": "9cbec068-6d97-48bc-b62a-8fa5311a9a79",
   "metadata": {},
   "outputs": [],
   "source": [
    "import numpy as np\n",
    "from numpy.linalg import norm"
   ]
  },
  {
   "cell_type": "markdown",
   "id": "70ff37f1-a056-4620-9346-671e819f3dc4",
   "metadata": {},
   "source": [
    "__1.__ Найти скалярное произведение векторов $x, y \\in \\mathbb{R}$:<br>\n",
    "а) $x=(0,-3, 6),~y=(-4, 7, 9);$<br>\n",
    "б) $x=(7, -4, 0, 1),~y=(-3, 1, 11, 2).$"
   ]
  },
  {
   "cell_type": "markdown",
   "id": "b23ff6fc-6f46-4fd6-9041-0e5a14c65199",
   "metadata": {},
   "source": [
    "a) $(x, y) = 0\\cdot (-4) - 3 \\cdot 7  +6 \\cdot 9 = 0 - 21 + 54 = 33$"
   ]
  },
  {
   "cell_type": "code",
   "execution_count": 6,
   "id": "f549d191-7f09-4c85-ba0a-eba8a41e8c64",
   "metadata": {},
   "outputs": [
    {
     "data": {
      "text/plain": [
       "33"
      ]
     },
     "execution_count": 6,
     "metadata": {},
     "output_type": "execute_result"
    }
   ],
   "source": [
    "x = np.array([0,-3, 6])\n",
    "y = np.array([-4, 7, 9])\n",
    "x.dot(y)"
   ]
  },
  {
   "cell_type": "markdown",
   "id": "6afaec92-e1cd-4bf4-8c51-9b8cb482374c",
   "metadata": {},
   "source": [
    "б) $(x, y) = 7\\cdot (-3) - 4 \\cdot 1  +0 \\cdot 11 + 1 \\cdot 2=  - 21 -4 + 0 + 2 = -23$"
   ]
  },
  {
   "cell_type": "code",
   "execution_count": 8,
   "id": "ef282ccb-f495-4e3a-9f1f-597c7009cf98",
   "metadata": {},
   "outputs": [
    {
     "data": {
      "text/plain": [
       "-23"
      ]
     },
     "execution_count": 8,
     "metadata": {},
     "output_type": "execute_result"
    }
   ],
   "source": [
    "x = np.array([7, -4, 0, 1])\n",
    "y = np.array([-3, 1, 11, 2])\n",
    "x @ y"
   ]
  },
  {
   "cell_type": "markdown",
   "id": "83f4060e-239c-4851-baae-f2b8815ec8aa",
   "metadata": {},
   "source": [
    "__2.__ Найти нормы векторов $(4, 2, 4)$ и $(12, 3, 4)$ и угол между ними.\n"
   ]
  },
  {
   "cell_type": "markdown",
   "id": "97b9f940-9828-4f17-a08d-b982f3bf8293",
   "metadata": {},
   "source": [
    "$a = (4, 2, 4)$,  $b = (12, 3, 4)$  \n",
    "\n",
    "1. Манхэттенская норма (l1):  \n",
    "\n",
    "$$||a||_1 = |4| + |2| + |4| = 10$$\n",
    "$$||b||_1 = |12| + |3| + |4| = 19$$\n",
    "\n",
    "2. Евклидова норма (l2):  \n",
    "\n",
    "$$||a||_2 = \\sqrt{4^2 + 2^2 + 4^2} = 6$$\n",
    "$$||b||_2 = \\sqrt{12^2 + 3^2 + 4^2} = 13$$\n",
    "\n",
    "\n",
    "3. Угол между векторами a и b:\n",
    "\n",
    "$$cos\\phi = \\frac{(a, b)}{||a|| \\cdot ||b||} = \\frac{4 \\cdot 12 + 3\\cdot2 + 4\\cdot4}{6 \\cdot 13} = \\frac{48 + 6 + 16}{78} = \\frac{70}{78} = \\frac{35}{39}$$\n",
    "\n",
    "$$\\phi = arccos(\\frac{35}{39}) \\approx 26°$$"
   ]
  },
  {
   "cell_type": "code",
   "execution_count": 47,
   "id": "aa8108cf-c016-4ca3-916e-7c7d679c05a9",
   "metadata": {},
   "outputs": [
    {
     "name": "stdout",
     "output_type": "stream",
     "text": [
      "l1-norma a:  10.0 \n",
      "l1-norma b:  19.0 \n",
      "l2-norma a:  6.0 \n",
      "l2-norma b:  13.0\n"
     ]
    }
   ],
   "source": [
    "a = np.array([4,2,4])\n",
    "b = np.array([12,3,4])\n",
    "print('l1-norma a: ', norm(a, ord=1),\n",
    "      '\\nl1-norma b: ', norm(b, ord=1),\n",
    "      '\\nl2-norma a: ', norm(a, ord=2),\n",
    "      '\\nl2-norma b: ', norm(b, ord=2)) "
   ]
  },
  {
   "cell_type": "code",
   "execution_count": 48,
   "id": "97c6ad20-fd2e-495b-acbc-2a08e854ca31",
   "metadata": {},
   "outputs": [
    {
     "data": {
      "text/plain": [
       "(0.8974358974358975, 26.17695217166654)"
      ]
     },
     "execution_count": 48,
     "metadata": {},
     "output_type": "execute_result"
    }
   ],
   "source": [
    "cos_phi = (a @ b) / (norm(a, ord=2) * norm(b, ord=2))\n",
    "phi = np.arccos(cos_phi)\n",
    "cos_phi, np.degrees(phi)"
   ]
  },
  {
   "cell_type": "markdown",
   "id": "acbe6cae-6ad2-44f7-83bc-2357bc7fbc73",
   "metadata": {},
   "source": [
    "__3.__ Будет ли линейное пространство евклидовым, если за скалярное произведение принять:<br>\n",
    "а) произведение длин векторов;\n",
    "б) утроенное обычное скалярное произведение векторов?"
   ]
  },
  {
   "cell_type": "markdown",
   "id": "147e38e1-a642-4a5a-8db3-dbd4547c988b",
   "metadata": {},
   "source": [
    "a)  1. $||x|| \\cdot ||y|| = ||y|| \\cdot ||x||$    \n",
    "2. $||\\lambda x|| \\cdot ||y|| = \\lambda ||x|| \\cdot ||y||$  \n",
    "3. $||x_1  + x_2|| \\cdot ||y|| \\neq ||x_1|| \\cdot ||y|| + ||x_2|| \\cdot ||y||$  \n",
    "4. $||x|| \\cdot ||x|| \\geq 0$\n",
    "\n",
    "Если взять норму Евклида, то не выполняется третье условие, следовательно пространство не является евклидовым.\n",
    "Если взять манхэттэнское расстояние, то выполняются все условия"
   ]
  },
  {
   "cell_type": "code",
   "execution_count": null,
   "id": "d9b23fad-2a90-41d7-abaf-4c39bead84dd",
   "metadata": {},
   "outputs": [],
   "source": [
    "A = np.array([3, 4])\n",
    "B = np.array([2, 10])\n",
    "C = np.array([15, 5])\n",
    "k = 5"
   ]
  },
  {
   "cell_type": "code",
   "execution_count": 51,
   "id": "c82c600e-18c2-44dd-8363-1f285337b824",
   "metadata": {},
   "outputs": [
    {
     "name": "stdout",
     "output_type": "stream",
     "text": [
      "L1 True\n",
      "L2 True\n"
     ]
    }
   ],
   "source": [
    "# проверка второго условия \n",
    "print('L1', 'True' if norm(k*A, ord=1)* norm(B, ord=1)==k*norm(A, ord=1)*norm(B, ord=1) else 'False')\n",
    "print('L2', 'True' if norm(k*A, ord=2)* norm(B, ord=2)==k*norm(A, ord=2)*norm(B, ord=2) else 'False')"
   ]
  },
  {
   "cell_type": "code",
   "execution_count": 54,
   "id": "0f4aa39f-36f4-4d4f-bc11-f6868718fd41",
   "metadata": {},
   "outputs": [
    {
     "name": "stdout",
     "output_type": "stream",
     "text": [
      "L1 True\n",
      "L2 False\n"
     ]
    }
   ],
   "source": [
    "# проверка третьего условия\n",
    "print('L1', 'True' if norm(A + B, ord=1) * norm(C, ord=1)==\n",
    "      norm(A, ord=1) * norm(C, ord=1) + norm(B, ord=1) * norm(C, ord=1)else 'False')\n",
    "print('L2', 'True' if norm(A + B, ord=2) * norm(C, ord=2)==\n",
    "      norm(A, ord=2) * norm(C, ord=2) + norm(B, ord=2) * norm(C, ord=2)else 'False')"
   ]
  },
  {
   "cell_type": "markdown",
   "id": "f022aad6-8d3c-4ca1-b242-cdf83edc9bf8",
   "metadata": {},
   "source": [
    "б) Является евклидовым пространством, так как скалярное произведение удовлетворяет условиям\n",
    "\n",
    "1. $3(x, y) = 3(y, x)$  \n",
    "2. $3\\lambda (x, y) = 3 (\\lambda \\cdot x, y)$  \n",
    "3. $3(x_1 + x_2, y) = 3(x_1, y) + 3(x_2,y)$  \n",
    "4. $3(x, x) \\geq 0 $"
   ]
  },
  {
   "cell_type": "code",
   "execution_count": 62,
   "id": "764b8ec6-088a-4e12-8132-22aacc273f0f",
   "metadata": {},
   "outputs": [
    {
     "name": "stdout",
     "output_type": "stream",
     "text": [
      "Condition 1 -  True\n",
      "Condition 2 -  True\n",
      "Condition 3 -  True\n",
      "Condition 4 -  True\n"
     ]
    }
   ],
   "source": [
    "print('Condition 1 - ', 'True' if A @ B == A @ B else 'False')\n",
    "print('Condition 2 - ', 'True' if 3*(A @ B) == (3*A) @ B else 'False')\n",
    "print('Condition 3 - ', 'True' if 3*((A+B)@C) == 3*A@C + 3*B@C else 'False')\n",
    "print('Condition 4 - ', 'True' if 3*(A@A)>=0 else 'False')"
   ]
  },
  {
   "cell_type": "markdown",
   "id": "cb829680-9196-416c-afd5-72da422df38e",
   "metadata": {},
   "source": [
    "__4.__ Какие из нижеперечисленных векторов образуют ортонормированный базис в линейном пространстве $\\mathbb{R}^{3}$:<br>\n",
    "а) $(1,0,0),(0,0,1);$ <br>\n",
    "б) $(1/\\sqrt{2},-1/\\sqrt{2},0),(1/\\sqrt{2},1/\\sqrt{2},0), (0,0,1);$<br>\n",
    "в) $(1/2, -1/2, 0), (0, 1/2, 1/2), (0,0,1);$<br>\n",
    "г) $(1,0,0),(0,1,0),(0,0,1)?$ "
   ]
  },
  {
   "cell_type": "markdown",
   "id": "65a25609-a611-4568-84df-1b32fd57bcb9",
   "metadata": {},
   "source": [
    "__a)__ Не образуют базис в линейном пространстве $\\mathbb{R}^{3}$, так  как их число должно равняться $n=3$  \n",
    "\n",
    "__б)__ $e_1 = (\\frac{1}{\\sqrt{2}},-\\frac{1}{\\sqrt{2}},0), ~e_2 = (\\frac{1}{\\sqrt{2}},\\frac{1}{\\sqrt{2}},0), ~e_3 = (0,0,1);$<br> \n",
    "\n",
    "$(e_1, e_2) = \\frac{1}{\\sqrt{2}} \\cdot \\frac{1}{\\sqrt{2}} - \\frac{1}{\\sqrt{2}} \\cdot \\frac{1}{\\sqrt{2}} + 0  = 0$<br>\n",
    "\n",
    "$(e_2, e_3) = 0 + 0  + 0 = 0$<br>\n",
    "\n",
    "$(e_3, e_1) = 0 + 0 + 0 = 0$<br>\n",
    "\n",
    "$(e_1, e_1) = \\frac{1}{2} + \\frac{1}{2} + 0 = 1$<br>\n",
    "\n",
    "$(e_2, e_2) = \\frac{1}{2} + \\frac{1}{2} + 0 = 1$<br>\n",
    "\n",
    "$(e_3, e_3) = 0 + 0 + 1 = 1$  <br>\n",
    "\n",
    "Образуют ортонормированный базис, так как выполняются все условия для ортонормированного базиса<br>\n",
    "\n",
    "__в)__ $e_1 = (1/2, -1/2, 0), ~e_2 = (0, 1/2, 1/2), ~e_3 = (0,0,1)$<br>\n",
    "\n",
    "$(e_1, e_2) = 0 - 1/4 + 0  \\neq 0$<br>\n",
    "\n",
    "Не образуют  ортонормированный базис, так как не выполняются условия для ортонормированного базиса <br>\n",
    "\n",
    "__г)__ $e_1 = (1,0,0), ~e_2 = (0,1,0), ~e_3 = (0,0,1)$ <br>\n",
    "\n",
    "\n",
    "Является стандартным базизом для линейного пространства $\\mathbb{R}^{3}$ <br>\n",
    "\n",
    "$(e_1, e_2) = 0 + 0 + 0  = 0$<br>\n",
    "\n",
    "$(e_2, e_3) = 0 + 0 + 0  = 0$<br>\n",
    "\n",
    "$(e_3, e_1) = 0 + 0 + 0  = 0$<br>\n",
    "\n",
    "$(e_1, e_1) = 1 + 0 + 0 = 1$<br>\n",
    "\n",
    "$(e_2, e_2) = 0 + 1 + 0 = 1$<br>\n",
    "\n",
    "$(e_3, e_3) = 0 + 0 + 1 = 1$<br>"
   ]
  }
 ],
 "metadata": {
  "kernelspec": {
   "display_name": "Python 3",
   "language": "python",
   "name": "python3"
  },
  "language_info": {
   "codemirror_mode": {
    "name": "ipython",
    "version": 3
   },
   "file_extension": ".py",
   "mimetype": "text/x-python",
   "name": "python",
   "nbconvert_exporter": "python",
   "pygments_lexer": "ipython3",
   "version": "3.9.5"
  }
 },
 "nbformat": 4,
 "nbformat_minor": 5
}
